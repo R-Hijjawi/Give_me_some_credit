{
 "cells": [
  {
   "cell_type": "markdown",
   "id": "dda39c67",
   "metadata": {},
   "source": [
    "# Importing Relevant Libraries"
   ]
  },
  {
   "cell_type": "code",
   "execution_count": 1,
   "id": "d6fbcbf3",
   "metadata": {},
   "outputs": [],
   "source": [
    "# Standard analytics packages\n",
    "import matplotlib.pyplot as plt\n",
    "import numpy as np\n",
    "import pandas as pd\n",
    "import seaborn as sns\n",
    "\n",
    "# Import useful packages from sklearn\n",
    "from sklearn.cluster import KMeans\n",
    "from sklearn.ensemble import RandomForestClassifier, VotingClassifier\n",
    "from sklearn.feature_selection import SelectKBest, f_classif\n",
    "from sklearn.linear_model import LogisticRegression, LogisticRegressionCV\n",
    "from sklearn.metrics import precision_score, recall_score\n",
    "from sklearn.model_selection import GridSearchCV\n",
    "from sklearn.model_selection import train_test_split\n",
    "from sklearn.preprocessing import StandardScaler\n",
    "from sklearn.tree import DecisionTreeClassifier\n",
    "from sklearn.impute import SimpleImputer as Imputer\n",
    "from sklearn.linear_model import LinearRegression, LassoCV, RidgeCV\n",
    "from sklearn.metrics import confusion_matrix\n",
    "from sklearn.metrics import accuracy_score, roc_curve, auc, roc_auc_score\n",
    "from xgboost import XGBClassifier\n",
    "from sklearn.ensemble import GradientBoostingClassifier\n",
    "from lightgbm import LGBMClassifier\n",
    "\n",
    "#import stats library\n",
    "import scipy.stats as stats"
   ]
  },
  {
   "cell_type": "markdown",
   "id": "fc878e6d",
   "metadata": {},
   "source": [
    "# Pre-Process and EDA"
   ]
  },
  {
   "cell_type": "code",
   "execution_count": 2,
   "id": "cfbaffe5",
   "metadata": {},
   "outputs": [
    {
     "data": {
      "text/html": [
       "<div>\n",
       "<style scoped>\n",
       "    .dataframe tbody tr th:only-of-type {\n",
       "        vertical-align: middle;\n",
       "    }\n",
       "\n",
       "    .dataframe tbody tr th {\n",
       "        vertical-align: top;\n",
       "    }\n",
       "\n",
       "    .dataframe thead th {\n",
       "        text-align: right;\n",
       "    }\n",
       "</style>\n",
       "<table border=\"1\" class=\"dataframe\">\n",
       "  <thead>\n",
       "    <tr style=\"text-align: right;\">\n",
       "      <th></th>\n",
       "      <th>Unnamed: 0</th>\n",
       "      <th>SeriousDlqin2yrs</th>\n",
       "      <th>RevolvingUtilizationOfUnsecuredLines</th>\n",
       "      <th>age</th>\n",
       "      <th>NumberOfTime30-59DaysPastDueNotWorse</th>\n",
       "      <th>DebtRatio</th>\n",
       "      <th>MonthlyIncome</th>\n",
       "      <th>NumberOfOpenCreditLinesAndLoans</th>\n",
       "      <th>NumberOfTimes90DaysLate</th>\n",
       "      <th>NumberRealEstateLoansOrLines</th>\n",
       "      <th>NumberOfTime60-89DaysPastDueNotWorse</th>\n",
       "      <th>NumberOfDependents</th>\n",
       "    </tr>\n",
       "  </thead>\n",
       "  <tbody>\n",
       "    <tr>\n",
       "      <th>0</th>\n",
       "      <td>1</td>\n",
       "      <td>1</td>\n",
       "      <td>0.766127</td>\n",
       "      <td>45</td>\n",
       "      <td>2</td>\n",
       "      <td>0.802982</td>\n",
       "      <td>9120.0</td>\n",
       "      <td>13</td>\n",
       "      <td>0</td>\n",
       "      <td>6</td>\n",
       "      <td>0</td>\n",
       "      <td>2.0</td>\n",
       "    </tr>\n",
       "    <tr>\n",
       "      <th>1</th>\n",
       "      <td>2</td>\n",
       "      <td>0</td>\n",
       "      <td>0.957151</td>\n",
       "      <td>40</td>\n",
       "      <td>0</td>\n",
       "      <td>0.121876</td>\n",
       "      <td>2600.0</td>\n",
       "      <td>4</td>\n",
       "      <td>0</td>\n",
       "      <td>0</td>\n",
       "      <td>0</td>\n",
       "      <td>1.0</td>\n",
       "    </tr>\n",
       "    <tr>\n",
       "      <th>2</th>\n",
       "      <td>3</td>\n",
       "      <td>0</td>\n",
       "      <td>0.658180</td>\n",
       "      <td>38</td>\n",
       "      <td>1</td>\n",
       "      <td>0.085113</td>\n",
       "      <td>3042.0</td>\n",
       "      <td>2</td>\n",
       "      <td>1</td>\n",
       "      <td>0</td>\n",
       "      <td>0</td>\n",
       "      <td>0.0</td>\n",
       "    </tr>\n",
       "    <tr>\n",
       "      <th>3</th>\n",
       "      <td>4</td>\n",
       "      <td>0</td>\n",
       "      <td>0.233810</td>\n",
       "      <td>30</td>\n",
       "      <td>0</td>\n",
       "      <td>0.036050</td>\n",
       "      <td>3300.0</td>\n",
       "      <td>5</td>\n",
       "      <td>0</td>\n",
       "      <td>0</td>\n",
       "      <td>0</td>\n",
       "      <td>0.0</td>\n",
       "    </tr>\n",
       "    <tr>\n",
       "      <th>4</th>\n",
       "      <td>5</td>\n",
       "      <td>0</td>\n",
       "      <td>0.907239</td>\n",
       "      <td>49</td>\n",
       "      <td>1</td>\n",
       "      <td>0.024926</td>\n",
       "      <td>63588.0</td>\n",
       "      <td>7</td>\n",
       "      <td>0</td>\n",
       "      <td>1</td>\n",
       "      <td>0</td>\n",
       "      <td>0.0</td>\n",
       "    </tr>\n",
       "  </tbody>\n",
       "</table>\n",
       "</div>"
      ],
      "text/plain": [
       "   Unnamed: 0  SeriousDlqin2yrs  RevolvingUtilizationOfUnsecuredLines  age  \\\n",
       "0           1                 1                              0.766127   45   \n",
       "1           2                 0                              0.957151   40   \n",
       "2           3                 0                              0.658180   38   \n",
       "3           4                 0                              0.233810   30   \n",
       "4           5                 0                              0.907239   49   \n",
       "\n",
       "   NumberOfTime30-59DaysPastDueNotWorse  DebtRatio  MonthlyIncome  \\\n",
       "0                                     2   0.802982         9120.0   \n",
       "1                                     0   0.121876         2600.0   \n",
       "2                                     1   0.085113         3042.0   \n",
       "3                                     0   0.036050         3300.0   \n",
       "4                                     1   0.024926        63588.0   \n",
       "\n",
       "   NumberOfOpenCreditLinesAndLoans  NumberOfTimes90DaysLate  \\\n",
       "0                               13                        0   \n",
       "1                                4                        0   \n",
       "2                                2                        1   \n",
       "3                                5                        0   \n",
       "4                                7                        0   \n",
       "\n",
       "   NumberRealEstateLoansOrLines  NumberOfTime60-89DaysPastDueNotWorse  \\\n",
       "0                             6                                     0   \n",
       "1                             0                                     0   \n",
       "2                             0                                     0   \n",
       "3                             0                                     0   \n",
       "4                             1                                     0   \n",
       "\n",
       "   NumberOfDependents  \n",
       "0                 2.0  \n",
       "1                 1.0  \n",
       "2                 0.0  \n",
       "3                 0.0  \n",
       "4                 0.0  "
      ]
     },
     "execution_count": 2,
     "metadata": {},
     "output_type": "execute_result"
    }
   ],
   "source": [
    "#Loading the data\n",
    "\n",
    "df_train = pd.read_csv(\"cs-training.csv\")\n",
    "df_test = pd.read_csv(\"cs-test.csv\")\n",
    "\n",
    "df_train.head()"
   ]
  },
  {
   "cell_type": "markdown",
   "id": "4bd5acb5",
   "metadata": {},
   "source": [
    "Re-indexing the dataframes"
   ]
  },
  {
   "cell_type": "code",
   "execution_count": 3,
   "id": "5d59db19",
   "metadata": {
    "scrolled": true
   },
   "outputs": [
    {
     "data": {
      "text/html": [
       "<div>\n",
       "<style scoped>\n",
       "    .dataframe tbody tr th:only-of-type {\n",
       "        vertical-align: middle;\n",
       "    }\n",
       "\n",
       "    .dataframe tbody tr th {\n",
       "        vertical-align: top;\n",
       "    }\n",
       "\n",
       "    .dataframe thead th {\n",
       "        text-align: right;\n",
       "    }\n",
       "</style>\n",
       "<table border=\"1\" class=\"dataframe\">\n",
       "  <thead>\n",
       "    <tr style=\"text-align: right;\">\n",
       "      <th></th>\n",
       "      <th>SeriousDlqin2yrs</th>\n",
       "      <th>RevolvingUtilizationOfUnsecuredLines</th>\n",
       "      <th>age</th>\n",
       "      <th>NumberOfTime30-59DaysPastDueNotWorse</th>\n",
       "      <th>DebtRatio</th>\n",
       "      <th>MonthlyIncome</th>\n",
       "      <th>NumberOfOpenCreditLinesAndLoans</th>\n",
       "      <th>NumberOfTimes90DaysLate</th>\n",
       "      <th>NumberRealEstateLoansOrLines</th>\n",
       "      <th>NumberOfTime60-89DaysPastDueNotWorse</th>\n",
       "      <th>NumberOfDependents</th>\n",
       "    </tr>\n",
       "  </thead>\n",
       "  <tbody>\n",
       "    <tr>\n",
       "      <th>0</th>\n",
       "      <td>1</td>\n",
       "      <td>0.766127</td>\n",
       "      <td>45</td>\n",
       "      <td>2</td>\n",
       "      <td>0.802982</td>\n",
       "      <td>9120.0</td>\n",
       "      <td>13</td>\n",
       "      <td>0</td>\n",
       "      <td>6</td>\n",
       "      <td>0</td>\n",
       "      <td>2.0</td>\n",
       "    </tr>\n",
       "    <tr>\n",
       "      <th>1</th>\n",
       "      <td>0</td>\n",
       "      <td>0.957151</td>\n",
       "      <td>40</td>\n",
       "      <td>0</td>\n",
       "      <td>0.121876</td>\n",
       "      <td>2600.0</td>\n",
       "      <td>4</td>\n",
       "      <td>0</td>\n",
       "      <td>0</td>\n",
       "      <td>0</td>\n",
       "      <td>1.0</td>\n",
       "    </tr>\n",
       "    <tr>\n",
       "      <th>2</th>\n",
       "      <td>0</td>\n",
       "      <td>0.658180</td>\n",
       "      <td>38</td>\n",
       "      <td>1</td>\n",
       "      <td>0.085113</td>\n",
       "      <td>3042.0</td>\n",
       "      <td>2</td>\n",
       "      <td>1</td>\n",
       "      <td>0</td>\n",
       "      <td>0</td>\n",
       "      <td>0.0</td>\n",
       "    </tr>\n",
       "    <tr>\n",
       "      <th>3</th>\n",
       "      <td>0</td>\n",
       "      <td>0.233810</td>\n",
       "      <td>30</td>\n",
       "      <td>0</td>\n",
       "      <td>0.036050</td>\n",
       "      <td>3300.0</td>\n",
       "      <td>5</td>\n",
       "      <td>0</td>\n",
       "      <td>0</td>\n",
       "      <td>0</td>\n",
       "      <td>0.0</td>\n",
       "    </tr>\n",
       "    <tr>\n",
       "      <th>4</th>\n",
       "      <td>0</td>\n",
       "      <td>0.907239</td>\n",
       "      <td>49</td>\n",
       "      <td>1</td>\n",
       "      <td>0.024926</td>\n",
       "      <td>63588.0</td>\n",
       "      <td>7</td>\n",
       "      <td>0</td>\n",
       "      <td>1</td>\n",
       "      <td>0</td>\n",
       "      <td>0.0</td>\n",
       "    </tr>\n",
       "  </tbody>\n",
       "</table>\n",
       "</div>"
      ],
      "text/plain": [
       "   SeriousDlqin2yrs  RevolvingUtilizationOfUnsecuredLines  age  \\\n",
       "0                 1                              0.766127   45   \n",
       "1                 0                              0.957151   40   \n",
       "2                 0                              0.658180   38   \n",
       "3                 0                              0.233810   30   \n",
       "4                 0                              0.907239   49   \n",
       "\n",
       "   NumberOfTime30-59DaysPastDueNotWorse  DebtRatio  MonthlyIncome  \\\n",
       "0                                     2   0.802982         9120.0   \n",
       "1                                     0   0.121876         2600.0   \n",
       "2                                     1   0.085113         3042.0   \n",
       "3                                     0   0.036050         3300.0   \n",
       "4                                     1   0.024926        63588.0   \n",
       "\n",
       "   NumberOfOpenCreditLinesAndLoans  NumberOfTimes90DaysLate  \\\n",
       "0                               13                        0   \n",
       "1                                4                        0   \n",
       "2                                2                        1   \n",
       "3                                5                        0   \n",
       "4                                7                        0   \n",
       "\n",
       "   NumberRealEstateLoansOrLines  NumberOfTime60-89DaysPastDueNotWorse  \\\n",
       "0                             6                                     0   \n",
       "1                             0                                     0   \n",
       "2                             0                                     0   \n",
       "3                             0                                     0   \n",
       "4                             1                                     0   \n",
       "\n",
       "   NumberOfDependents  \n",
       "0                 2.0  \n",
       "1                 1.0  \n",
       "2                 0.0  \n",
       "3                 0.0  \n",
       "4                 0.0  "
      ]
     },
     "execution_count": 3,
     "metadata": {},
     "output_type": "execute_result"
    }
   ],
   "source": [
    "df_train = df_train.drop(df_train.columns[0], axis = 1)\n",
    "df_test = df_test.drop(df_test.columns[0], axis = 1)\n",
    "df_train.head()"
   ]
  },
  {
   "cell_type": "code",
   "execution_count": 4,
   "id": "21d09d00",
   "metadata": {},
   "outputs": [
    {
     "data": {
      "text/html": [
       "<div>\n",
       "<style scoped>\n",
       "    .dataframe tbody tr th:only-of-type {\n",
       "        vertical-align: middle;\n",
       "    }\n",
       "\n",
       "    .dataframe tbody tr th {\n",
       "        vertical-align: top;\n",
       "    }\n",
       "\n",
       "    .dataframe thead th {\n",
       "        text-align: right;\n",
       "    }\n",
       "</style>\n",
       "<table border=\"1\" class=\"dataframe\">\n",
       "  <thead>\n",
       "    <tr style=\"text-align: right;\">\n",
       "      <th></th>\n",
       "      <th>SeriousDlqin2yrs</th>\n",
       "      <th>RevolvingUtilizationOfUnsecuredLines</th>\n",
       "      <th>age</th>\n",
       "      <th>NumberOfTime30-59DaysPastDueNotWorse</th>\n",
       "      <th>DebtRatio</th>\n",
       "      <th>MonthlyIncome</th>\n",
       "      <th>NumberOfOpenCreditLinesAndLoans</th>\n",
       "      <th>NumberOfTimes90DaysLate</th>\n",
       "      <th>NumberRealEstateLoansOrLines</th>\n",
       "      <th>NumberOfTime60-89DaysPastDueNotWorse</th>\n",
       "      <th>NumberOfDependents</th>\n",
       "    </tr>\n",
       "  </thead>\n",
       "  <tbody>\n",
       "    <tr>\n",
       "      <th>count</th>\n",
       "      <td>150000.000000</td>\n",
       "      <td>150000.000000</td>\n",
       "      <td>150000.000000</td>\n",
       "      <td>150000.000000</td>\n",
       "      <td>150000.000000</td>\n",
       "      <td>1.202690e+05</td>\n",
       "      <td>150000.000000</td>\n",
       "      <td>150000.000000</td>\n",
       "      <td>150000.000000</td>\n",
       "      <td>150000.000000</td>\n",
       "      <td>146076.000000</td>\n",
       "    </tr>\n",
       "    <tr>\n",
       "      <th>mean</th>\n",
       "      <td>0.066840</td>\n",
       "      <td>6.048438</td>\n",
       "      <td>52.295207</td>\n",
       "      <td>0.421033</td>\n",
       "      <td>353.005076</td>\n",
       "      <td>6.670221e+03</td>\n",
       "      <td>8.452760</td>\n",
       "      <td>0.265973</td>\n",
       "      <td>1.018240</td>\n",
       "      <td>0.240387</td>\n",
       "      <td>0.757222</td>\n",
       "    </tr>\n",
       "    <tr>\n",
       "      <th>std</th>\n",
       "      <td>0.249746</td>\n",
       "      <td>249.755371</td>\n",
       "      <td>14.771866</td>\n",
       "      <td>4.192781</td>\n",
       "      <td>2037.818523</td>\n",
       "      <td>1.438467e+04</td>\n",
       "      <td>5.145951</td>\n",
       "      <td>4.169304</td>\n",
       "      <td>1.129771</td>\n",
       "      <td>4.155179</td>\n",
       "      <td>1.115086</td>\n",
       "    </tr>\n",
       "    <tr>\n",
       "      <th>min</th>\n",
       "      <td>0.000000</td>\n",
       "      <td>0.000000</td>\n",
       "      <td>0.000000</td>\n",
       "      <td>0.000000</td>\n",
       "      <td>0.000000</td>\n",
       "      <td>0.000000e+00</td>\n",
       "      <td>0.000000</td>\n",
       "      <td>0.000000</td>\n",
       "      <td>0.000000</td>\n",
       "      <td>0.000000</td>\n",
       "      <td>0.000000</td>\n",
       "    </tr>\n",
       "    <tr>\n",
       "      <th>25%</th>\n",
       "      <td>0.000000</td>\n",
       "      <td>0.029867</td>\n",
       "      <td>41.000000</td>\n",
       "      <td>0.000000</td>\n",
       "      <td>0.175074</td>\n",
       "      <td>3.400000e+03</td>\n",
       "      <td>5.000000</td>\n",
       "      <td>0.000000</td>\n",
       "      <td>0.000000</td>\n",
       "      <td>0.000000</td>\n",
       "      <td>0.000000</td>\n",
       "    </tr>\n",
       "    <tr>\n",
       "      <th>50%</th>\n",
       "      <td>0.000000</td>\n",
       "      <td>0.154181</td>\n",
       "      <td>52.000000</td>\n",
       "      <td>0.000000</td>\n",
       "      <td>0.366508</td>\n",
       "      <td>5.400000e+03</td>\n",
       "      <td>8.000000</td>\n",
       "      <td>0.000000</td>\n",
       "      <td>1.000000</td>\n",
       "      <td>0.000000</td>\n",
       "      <td>0.000000</td>\n",
       "    </tr>\n",
       "    <tr>\n",
       "      <th>75%</th>\n",
       "      <td>0.000000</td>\n",
       "      <td>0.559046</td>\n",
       "      <td>63.000000</td>\n",
       "      <td>0.000000</td>\n",
       "      <td>0.868254</td>\n",
       "      <td>8.249000e+03</td>\n",
       "      <td>11.000000</td>\n",
       "      <td>0.000000</td>\n",
       "      <td>2.000000</td>\n",
       "      <td>0.000000</td>\n",
       "      <td>1.000000</td>\n",
       "    </tr>\n",
       "    <tr>\n",
       "      <th>max</th>\n",
       "      <td>1.000000</td>\n",
       "      <td>50708.000000</td>\n",
       "      <td>109.000000</td>\n",
       "      <td>98.000000</td>\n",
       "      <td>329664.000000</td>\n",
       "      <td>3.008750e+06</td>\n",
       "      <td>58.000000</td>\n",
       "      <td>98.000000</td>\n",
       "      <td>54.000000</td>\n",
       "      <td>98.000000</td>\n",
       "      <td>20.000000</td>\n",
       "    </tr>\n",
       "  </tbody>\n",
       "</table>\n",
       "</div>"
      ],
      "text/plain": [
       "       SeriousDlqin2yrs  RevolvingUtilizationOfUnsecuredLines            age  \\\n",
       "count     150000.000000                         150000.000000  150000.000000   \n",
       "mean           0.066840                              6.048438      52.295207   \n",
       "std            0.249746                            249.755371      14.771866   \n",
       "min            0.000000                              0.000000       0.000000   \n",
       "25%            0.000000                              0.029867      41.000000   \n",
       "50%            0.000000                              0.154181      52.000000   \n",
       "75%            0.000000                              0.559046      63.000000   \n",
       "max            1.000000                          50708.000000     109.000000   \n",
       "\n",
       "       NumberOfTime30-59DaysPastDueNotWorse      DebtRatio  MonthlyIncome  \\\n",
       "count                         150000.000000  150000.000000   1.202690e+05   \n",
       "mean                               0.421033     353.005076   6.670221e+03   \n",
       "std                                4.192781    2037.818523   1.438467e+04   \n",
       "min                                0.000000       0.000000   0.000000e+00   \n",
       "25%                                0.000000       0.175074   3.400000e+03   \n",
       "50%                                0.000000       0.366508   5.400000e+03   \n",
       "75%                                0.000000       0.868254   8.249000e+03   \n",
       "max                               98.000000  329664.000000   3.008750e+06   \n",
       "\n",
       "       NumberOfOpenCreditLinesAndLoans  NumberOfTimes90DaysLate  \\\n",
       "count                    150000.000000            150000.000000   \n",
       "mean                          8.452760                 0.265973   \n",
       "std                           5.145951                 4.169304   \n",
       "min                           0.000000                 0.000000   \n",
       "25%                           5.000000                 0.000000   \n",
       "50%                           8.000000                 0.000000   \n",
       "75%                          11.000000                 0.000000   \n",
       "max                          58.000000                98.000000   \n",
       "\n",
       "       NumberRealEstateLoansOrLines  NumberOfTime60-89DaysPastDueNotWorse  \\\n",
       "count                 150000.000000                         150000.000000   \n",
       "mean                       1.018240                              0.240387   \n",
       "std                        1.129771                              4.155179   \n",
       "min                        0.000000                              0.000000   \n",
       "25%                        0.000000                              0.000000   \n",
       "50%                        1.000000                              0.000000   \n",
       "75%                        2.000000                              0.000000   \n",
       "max                       54.000000                             98.000000   \n",
       "\n",
       "       NumberOfDependents  \n",
       "count       146076.000000  \n",
       "mean             0.757222  \n",
       "std              1.115086  \n",
       "min              0.000000  \n",
       "25%              0.000000  \n",
       "50%              0.000000  \n",
       "75%              1.000000  \n",
       "max             20.000000  "
      ]
     },
     "execution_count": 4,
     "metadata": {},
     "output_type": "execute_result"
    }
   ],
   "source": [
    "df_train.describe()"
   ]
  },
  {
   "cell_type": "markdown",
   "id": "e95e1d14",
   "metadata": {},
   "source": [
    "It is interesting to see that the maximum values for all the numder of times x amount of days late is 98, which by doing simple math, that does not make sense at all, and there seems to be an error in the data, further investigation is required."
   ]
  },
  {
   "cell_type": "code",
   "execution_count": 5,
   "id": "3b2e6b21",
   "metadata": {},
   "outputs": [
    {
     "name": "stdout",
     "output_type": "stream",
     "text": [
      "The size of df_train is (150000, 11)\n",
      "The size of df_test is (101503, 11)\n"
     ]
    }
   ],
   "source": [
    "print(f'The size of df_train is {df_train.shape}')\n",
    "print(f'The size of df_test is {df_test.shape}')"
   ]
  },
  {
   "cell_type": "markdown",
   "id": "be11ccfa",
   "metadata": {},
   "source": [
    "Creating new dataframe which has columns in desired order for the remainder of analysis"
   ]
  },
  {
   "cell_type": "code",
   "execution_count": 6,
   "id": "a33af9a2",
   "metadata": {
    "scrolled": true
   },
   "outputs": [
    {
     "data": {
      "text/html": [
       "<div>\n",
       "<style scoped>\n",
       "    .dataframe tbody tr th:only-of-type {\n",
       "        vertical-align: middle;\n",
       "    }\n",
       "\n",
       "    .dataframe tbody tr th {\n",
       "        vertical-align: top;\n",
       "    }\n",
       "\n",
       "    .dataframe thead th {\n",
       "        text-align: right;\n",
       "    }\n",
       "</style>\n",
       "<table border=\"1\" class=\"dataframe\">\n",
       "  <thead>\n",
       "    <tr style=\"text-align: right;\">\n",
       "      <th></th>\n",
       "      <th>SeriousDlqin2yrs</th>\n",
       "      <th>RevolvingUtilizationOfUnsecuredLines</th>\n",
       "      <th>age</th>\n",
       "      <th>DebtRatio</th>\n",
       "      <th>MonthlyIncome</th>\n",
       "      <th>NumberOfTime30-59DaysPastDueNotWorse</th>\n",
       "      <th>NumberOfOpenCreditLinesAndLoans</th>\n",
       "      <th>NumberOfTimes90DaysLate</th>\n",
       "      <th>NumberRealEstateLoansOrLines</th>\n",
       "      <th>NumberOfTime60-89DaysPastDueNotWorse</th>\n",
       "      <th>NumberOfDependents</th>\n",
       "    </tr>\n",
       "  </thead>\n",
       "  <tbody>\n",
       "    <tr>\n",
       "      <th>0</th>\n",
       "      <td>1</td>\n",
       "      <td>0.766127</td>\n",
       "      <td>45</td>\n",
       "      <td>0.802982</td>\n",
       "      <td>9120.0</td>\n",
       "      <td>2</td>\n",
       "      <td>13</td>\n",
       "      <td>0</td>\n",
       "      <td>6</td>\n",
       "      <td>0</td>\n",
       "      <td>2.0</td>\n",
       "    </tr>\n",
       "    <tr>\n",
       "      <th>1</th>\n",
       "      <td>0</td>\n",
       "      <td>0.957151</td>\n",
       "      <td>40</td>\n",
       "      <td>0.121876</td>\n",
       "      <td>2600.0</td>\n",
       "      <td>0</td>\n",
       "      <td>4</td>\n",
       "      <td>0</td>\n",
       "      <td>0</td>\n",
       "      <td>0</td>\n",
       "      <td>1.0</td>\n",
       "    </tr>\n",
       "    <tr>\n",
       "      <th>2</th>\n",
       "      <td>0</td>\n",
       "      <td>0.658180</td>\n",
       "      <td>38</td>\n",
       "      <td>0.085113</td>\n",
       "      <td>3042.0</td>\n",
       "      <td>1</td>\n",
       "      <td>2</td>\n",
       "      <td>1</td>\n",
       "      <td>0</td>\n",
       "      <td>0</td>\n",
       "      <td>0.0</td>\n",
       "    </tr>\n",
       "    <tr>\n",
       "      <th>3</th>\n",
       "      <td>0</td>\n",
       "      <td>0.233810</td>\n",
       "      <td>30</td>\n",
       "      <td>0.036050</td>\n",
       "      <td>3300.0</td>\n",
       "      <td>0</td>\n",
       "      <td>5</td>\n",
       "      <td>0</td>\n",
       "      <td>0</td>\n",
       "      <td>0</td>\n",
       "      <td>0.0</td>\n",
       "    </tr>\n",
       "    <tr>\n",
       "      <th>4</th>\n",
       "      <td>0</td>\n",
       "      <td>0.907239</td>\n",
       "      <td>49</td>\n",
       "      <td>0.024926</td>\n",
       "      <td>63588.0</td>\n",
       "      <td>1</td>\n",
       "      <td>7</td>\n",
       "      <td>0</td>\n",
       "      <td>1</td>\n",
       "      <td>0</td>\n",
       "      <td>0.0</td>\n",
       "    </tr>\n",
       "  </tbody>\n",
       "</table>\n",
       "</div>"
      ],
      "text/plain": [
       "   SeriousDlqin2yrs  RevolvingUtilizationOfUnsecuredLines  age  DebtRatio  \\\n",
       "0                 1                              0.766127   45   0.802982   \n",
       "1                 0                              0.957151   40   0.121876   \n",
       "2                 0                              0.658180   38   0.085113   \n",
       "3                 0                              0.233810   30   0.036050   \n",
       "4                 0                              0.907239   49   0.024926   \n",
       "\n",
       "   MonthlyIncome  NumberOfTime30-59DaysPastDueNotWorse  \\\n",
       "0         9120.0                                     2   \n",
       "1         2600.0                                     0   \n",
       "2         3042.0                                     1   \n",
       "3         3300.0                                     0   \n",
       "4        63588.0                                     1   \n",
       "\n",
       "   NumberOfOpenCreditLinesAndLoans  NumberOfTimes90DaysLate  \\\n",
       "0                               13                        0   \n",
       "1                                4                        0   \n",
       "2                                2                        1   \n",
       "3                                5                        0   \n",
       "4                                7                        0   \n",
       "\n",
       "   NumberRealEstateLoansOrLines  NumberOfTime60-89DaysPastDueNotWorse  \\\n",
       "0                             6                                     0   \n",
       "1                             0                                     0   \n",
       "2                             0                                     0   \n",
       "3                             0                                     0   \n",
       "4                             1                                     0   \n",
       "\n",
       "   NumberOfDependents  \n",
       "0                 2.0  \n",
       "1                 1.0  \n",
       "2                 0.0  \n",
       "3                 0.0  \n",
       "4                 0.0  "
      ]
     },
     "execution_count": 6,
     "metadata": {},
     "output_type": "execute_result"
    }
   ],
   "source": [
    "columns = df_train.columns.tolist()\n",
    "\n",
    "df_train_columns_sorted = columns[:3] + columns[4:6] + columns[3:4] + columns[6:]\n",
    "df_train = df_train[df_train_columns_sorted]\n",
    "df_test = df_test[df_train_columns_sorted]\n",
    "df_train.head()"
   ]
  },
  {
   "cell_type": "markdown",
   "id": "158141a4",
   "metadata": {},
   "source": [
    "## Age"
   ]
  },
  {
   "cell_type": "code",
   "execution_count": 7,
   "id": "06e49887",
   "metadata": {
    "scrolled": true
   },
   "outputs": [
    {
     "data": {
      "image/png": "[encoded data removed]",
      "text/plain": [
       "<Figure size 500x500 with 1 Axes>"
      ]
     },
     "metadata": {},
     "output_type": "display_data"
    }
   ],
   "source": [
    "sns.displot(df_train[\"age\"], kde = True)\n",
    "plt.show()"
   ]
  },
  {
   "cell_type": "code",
   "execution_count": 8,
   "id": "486ed188",
   "metadata": {},
   "outputs": [
    {
     "name": "stderr",
     "output_type": "stream",
     "text": [
      "C:\\Users\\R430i\\anaconda3\\lib\\site-packages\\seaborn\\_decorators.py:36: FutureWarning: Pass the following variable as a keyword arg: x. From version 0.12, the only valid positional argument will be `data`, and passing other arguments without an explicit keyword will result in an error or misinterpretation.\n",
      "  warnings.warn(\n"
     ]
    },
    {
     "data": {
      "image/png": "[encoded data removed]",
      "text/plain": [
       "<Figure size 640x480 with 1 Axes>"
      ]
     },
     "metadata": {},
     "output_type": "display_data"
    }
   ],
   "source": [
    "sns.countplot(df_train.loc[df_train[\"SeriousDlqin2yrs\"] == 0][\"age\"])\n",
    "plt.show()"
   ]
  },
  {
   "cell_type": "code",
   "execution_count": 9,
   "id": "4b10287e",
   "metadata": {},
   "outputs": [
    {
     "name": "stderr",
     "output_type": "stream",
     "text": [
      "C:\\Users\\R430i\\anaconda3\\lib\\site-packages\\seaborn\\_decorators.py:36: FutureWarning: Pass the following variable as a keyword arg: x. From version 0.12, the only valid positional argument will be `data`, and passing other arguments without an explicit keyword will result in an error or misinterpretation.\n",
      "  warnings.warn(\n"
     ]
    },
    {
     "data": {
      "image/png": "[encoded data removed]",
      "text/plain": [
       "<Figure size 640x480 with 1 Axes>"
      ]
     },
     "metadata": {},
     "output_type": "display_data"
    }
   ],
   "source": [
    "sns.countplot(df_train.loc[df_train[\"SeriousDlqin2yrs\"] == 1][\"age\"])\n",
    "plt.show()"
   ]
  },
  {
   "cell_type": "markdown",
   "id": "ed9124a7",
   "metadata": {},
   "source": [
    "As we can see from the data it seems that the majority of borrowers that default are 'young' which practically makes sense and the distribution seems to be alright, and seems to be a feature that will be important moving forward."
   ]
  },
  {
   "cell_type": "markdown",
   "id": "a8c10443",
   "metadata": {},
   "source": [
    "## Number of x days late columns"
   ]
  },
  {
   "cell_type": "code",
   "execution_count": 10,
   "id": "c9ef5d1d",
   "metadata": {},
   "outputs": [
    {
     "data": {
      "text/plain": [
       "0     141662\n",
       "1       5243\n",
       "2       1555\n",
       "3        667\n",
       "4        291\n",
       "5        131\n",
       "6         80\n",
       "7         38\n",
       "8         21\n",
       "9         19\n",
       "10         8\n",
       "11         5\n",
       "12         2\n",
       "13         4\n",
       "14         2\n",
       "15         2\n",
       "17         1\n",
       "96         5\n",
       "98       264\n",
       "Name: NumberOfTimes90DaysLate, dtype: int64"
      ]
     },
     "execution_count": 10,
     "metadata": {},
     "output_type": "execute_result"
    }
   ],
   "source": [
    "df_train[\"NumberOfTimes90DaysLate\"].value_counts().sort_index()"
   ]
  },
  {
   "cell_type": "code",
   "execution_count": 11,
   "id": "237dec99",
   "metadata": {},
   "outputs": [
    {
     "data": {
      "text/plain": [
       "0     142396\n",
       "1       5731\n",
       "2       1118\n",
       "3        318\n",
       "4        105\n",
       "5         34\n",
       "6         16\n",
       "7          9\n",
       "8          2\n",
       "9          1\n",
       "11         1\n",
       "96         5\n",
       "98       264\n",
       "Name: NumberOfTime60-89DaysPastDueNotWorse, dtype: int64"
      ]
     },
     "execution_count": 11,
     "metadata": {},
     "output_type": "execute_result"
    }
   ],
   "source": [
    "df_train[\"NumberOfTime60-89DaysPastDueNotWorse\"].value_counts().sort_index()"
   ]
  },
  {
   "cell_type": "code",
   "execution_count": 12,
   "id": "74d46533",
   "metadata": {},
   "outputs": [
    {
     "data": {
      "text/plain": [
       "0     126018\n",
       "1      16033\n",
       "2       4598\n",
       "3       1754\n",
       "4        747\n",
       "5        342\n",
       "6        140\n",
       "7         54\n",
       "8         25\n",
       "9         12\n",
       "10         4\n",
       "11         1\n",
       "12         2\n",
       "13         1\n",
       "96         5\n",
       "98       264\n",
       "Name: NumberOfTime30-59DaysPastDueNotWorse, dtype: int64"
      ]
     },
     "execution_count": 12,
     "metadata": {},
     "output_type": "execute_result"
    }
   ],
   "source": [
    "df_train[\"NumberOfTime30-59DaysPastDueNotWorse\"].value_counts().sort_index()"
   ]
  },
  {
   "cell_type": "markdown",
   "id": "e6f785ab",
   "metadata": {},
   "source": [
    "This is funny, all of them seem to have the same number of instances for 96 and 98 times past due notices, which again does not make sense, therefore moving forward will test models with different training sets, such as setting NumberOfTimes90DaysLate to <= 17 and ignore the 96 and 98 instances"
   ]
  },
  {
   "cell_type": "markdown",
   "id": "6d5bc705",
   "metadata": {},
   "source": [
    "## Monthly Income"
   ]
  },
  {
   "cell_type": "code",
   "execution_count": 13,
   "id": "a16829f8",
   "metadata": {},
   "outputs": [
    {
     "data": {
      "image/png": "[encoded data removed]",
      "text/plain": [
       "<Figure size 500x500 with 1 Axes>"
      ]
     },
     "metadata": {},
     "output_type": "display_data"
    }
   ],
   "source": [
    "sns.displot(df_train[\"MonthlyIncome\"].dropna(), kde = True)\n",
    "plt.show()"
   ]
  },
  {
   "cell_type": "markdown",
   "id": "b243e54f",
   "metadata": {},
   "source": [
    "Monthly income is skewed, moving forward might try imputing using median. "
   ]
  },
  {
   "cell_type": "markdown",
   "id": "849add86",
   "metadata": {},
   "source": [
    "## Number of Open Credit Lines and Loans"
   ]
  },
  {
   "cell_type": "code",
   "execution_count": 14,
   "id": "9020190f",
   "metadata": {},
   "outputs": [
    {
     "data": {
      "image/png": "[encoded data removed]",
      "text/plain": [
       "<Figure size 500x500 with 1 Axes>"
      ]
     },
     "metadata": {},
     "output_type": "display_data"
    }
   ],
   "source": [
    "sns.displot(df_train[\"NumberOfOpenCreditLinesAndLoans\"], kde = True)\n",
    "plt.show()"
   ]
  },
  {
   "cell_type": "markdown",
   "id": "9fc67a25",
   "metadata": {},
   "source": [
    "## Revolving Utilization of Unsecured Credit Lines"
   ]
  },
  {
   "cell_type": "code",
   "execution_count": 15,
   "id": "27b10803",
   "metadata": {},
   "outputs": [
    {
     "name": "stderr",
     "output_type": "stream",
     "text": [
      "C:\\Users\\R430i\\anaconda3\\lib\\site-packages\\seaborn\\distributions.py:2619: FutureWarning: `distplot` is a deprecated function and will be removed in a future version. Please adapt your code to use either `displot` (a figure-level function with similar flexibility) or `histplot` (an axes-level function for histograms).\n",
      "  warnings.warn(msg, FutureWarning)\n"
     ]
    },
    {
     "data": {
      "image/png": "[encoded data removed]",
      "text/plain": [
       "<Figure size 640x480 with 1 Axes>"
      ]
     },
     "metadata": {},
     "output_type": "display_data"
    }
   ],
   "source": [
    "sns.distplot(df_train[\"RevolvingUtilizationOfUnsecuredLines\"])\n",
    "plt.show()"
   ]
  },
  {
   "cell_type": "markdown",
   "id": "1ace49e2",
   "metadata": {},
   "source": [
    "It seems revolving utilization is also skewed"
   ]
  },
  {
   "cell_type": "code",
   "execution_count": 16,
   "id": "c47225f2",
   "metadata": {},
   "outputs": [],
   "source": [
    "# df_train[\"RevolvingUtilizationOfUnsecuredLines\"].value_counts().sort_index()"
   ]
  },
  {
   "cell_type": "markdown",
   "id": "a3396042",
   "metadata": {},
   "source": [
    "## Debt Ratio "
   ]
  },
  {
   "cell_type": "code",
   "execution_count": 17,
   "id": "d8e9d94f",
   "metadata": {},
   "outputs": [
    {
     "name": "stderr",
     "output_type": "stream",
     "text": [
      "C:\\Users\\R430i\\anaconda3\\lib\\site-packages\\seaborn\\distributions.py:2619: FutureWarning: `distplot` is a deprecated function and will be removed in a future version. Please adapt your code to use either `displot` (a figure-level function with similar flexibility) or `histplot` (an axes-level function for histograms).\n",
      "  warnings.warn(msg, FutureWarning)\n"
     ]
    },
    {
     "data": {
      "image/png": "[encoded data removed]",
      "text/plain": [
       "<Figure size 640x480 with 1 Axes>"
      ]
     },
     "metadata": {},
     "output_type": "display_data"
    }
   ],
   "source": [
    "sns.distplot(df_train[\"DebtRatio\"])\n",
    "plt.show()"
   ]
  },
  {
   "cell_type": "markdown",
   "id": "05b0b8d4",
   "metadata": {},
   "source": [
    "## Number Real Estate Loans or Lines"
   ]
  },
  {
   "cell_type": "code",
   "execution_count": 18,
   "id": "e4741c6e",
   "metadata": {
    "scrolled": false
   },
   "outputs": [
    {
     "data": {
      "image/png": "[encoded data removed]",
      "text/plain": [
       "<Figure size 500x500 with 1 Axes>"
      ]
     },
     "metadata": {},
     "output_type": "display_data"
    }
   ],
   "source": [
    "sns.displot(df_train[\"NumberRealEstateLoansOrLines\"], kde = True)\n",
    "plt.show()"
   ]
  },
  {
   "cell_type": "markdown",
   "id": "24dd2caa",
   "metadata": {},
   "source": [
    "Checking correlations with initial data"
   ]
  },
  {
   "cell_type": "code",
   "execution_count": 19,
   "id": "6b7a8851",
   "metadata": {},
   "outputs": [
    {
     "data": {
      "image/png": "[encoded data removed]",
      "text/plain": [
       "<Figure size 640x480 with 2 Axes>"
      ]
     },
     "metadata": {},
     "output_type": "display_data"
    }
   ],
   "source": [
    "sns.heatmap(df_train.corr(), annot = False)\n",
    "plt.show()"
   ]
  },
  {
   "cell_type": "markdown",
   "id": "4ac4eaba",
   "metadata": {},
   "source": [
    "# Cleaning up data and creating multiple training and testing sets"
   ]
  },
  {
   "cell_type": "markdown",
   "id": "deab105d",
   "metadata": {},
   "source": [
    "## Missing values in training set"
   ]
  },
  {
   "cell_type": "code",
   "execution_count": 20,
   "id": "54c91634",
   "metadata": {
    "scrolled": true
   },
   "outputs": [
    {
     "data": {
      "text/plain": [
       "SeriousDlqin2yrs                          int64\n",
       "RevolvingUtilizationOfUnsecuredLines    float64\n",
       "age                                       int64\n",
       "DebtRatio                               float64\n",
       "MonthlyIncome                           float64\n",
       "NumberOfTime30-59DaysPastDueNotWorse      int64\n",
       "NumberOfOpenCreditLinesAndLoans           int64\n",
       "NumberOfTimes90DaysLate                   int64\n",
       "NumberRealEstateLoansOrLines              int64\n",
       "NumberOfTime60-89DaysPastDueNotWorse      int64\n",
       "NumberOfDependents                      float64\n",
       "dtype: object"
      ]
     },
     "execution_count": 20,
     "metadata": {},
     "output_type": "execute_result"
    }
   ],
   "source": [
    "df_train.dtypes"
   ]
  },
  {
   "cell_type": "code",
   "execution_count": 21,
   "id": "735049bd",
   "metadata": {
    "scrolled": false
   },
   "outputs": [
    {
     "data": {
      "text/plain": [
       "SeriousDlqin2yrs                            0\n",
       "RevolvingUtilizationOfUnsecuredLines        0\n",
       "age                                         0\n",
       "DebtRatio                                   0\n",
       "MonthlyIncome                           29731\n",
       "NumberOfTime30-59DaysPastDueNotWorse        0\n",
       "NumberOfOpenCreditLinesAndLoans             0\n",
       "NumberOfTimes90DaysLate                     0\n",
       "NumberRealEstateLoansOrLines                0\n",
       "NumberOfTime60-89DaysPastDueNotWorse        0\n",
       "NumberOfDependents                       3924\n",
       "dtype: int64"
      ]
     },
     "execution_count": 21,
     "metadata": {},
     "output_type": "execute_result"
    }
   ],
   "source": [
    "df_train.isnull().sum()"
   ]
  },
  {
   "cell_type": "code",
   "execution_count": 22,
   "id": "e95dd712",
   "metadata": {
    "scrolled": true
   },
   "outputs": [
    {
     "name": "stderr",
     "output_type": "stream",
     "text": [
      "C:\\Users\\R430i\\anaconda3\\lib\\site-packages\\sklearn\\impute\\_base.py:49: FutureWarning: Unlike other reduction functions (e.g. `skew`, `kurtosis`), the default behavior of `mode` typically preserves the axis it acts along. In SciPy 1.11.0, this behavior will change: the default value of `keepdims` will become False, the `axis` over which the statistic is taken will be eliminated, and the value None will no longer be accepted. Set `keepdims` to True or False to avoid this warning.\n",
      "  mode = stats.mode(array)\n"
     ]
    },
    {
     "data": {
      "text/plain": [
       "SeriousDlqin2yrs                        0\n",
       "RevolvingUtilizationOfUnsecuredLines    0\n",
       "age                                     0\n",
       "DebtRatio                               0\n",
       "MonthlyIncome                           0\n",
       "NumberOfTime30-59DaysPastDueNotWorse    0\n",
       "NumberOfOpenCreditLinesAndLoans         0\n",
       "NumberOfTimes90DaysLate                 0\n",
       "NumberRealEstateLoansOrLines            0\n",
       "NumberOfTime60-89DaysPastDueNotWorse    0\n",
       "NumberOfDependents                      0\n",
       "dtype: int64"
      ]
     },
     "execution_count": 22,
     "metadata": {},
     "output_type": "execute_result"
    }
   ],
   "source": [
    "imp_median = Imputer(strategy = 'median')\n",
    "imp_mode = Imputer(strategy = 'most_frequent')\n",
    "\n",
    "imp_median.fit(df_train[['MonthlyIncome']])\n",
    "imp_mode.fit(df_train[['NumberOfDependents']])\n",
    "\n",
    "df_train_mod = df_train.copy()\n",
    "\n",
    "df_train_mod[['MonthlyIncome']] = imp_median.transform(df_train_mod[['MonthlyIncome']])\n",
    "df_train_mod[['NumberOfDependents']] = imp_mode.transform(df_train_mod[['NumberOfDependents']])\n",
    "\n",
    "df_train_mod.isnull().sum()"
   ]
  },
  {
   "cell_type": "markdown",
   "id": "bad75370",
   "metadata": {},
   "source": [
    "## Missing Values in testing set"
   ]
  },
  {
   "cell_type": "code",
   "execution_count": 23,
   "id": "c740b97b",
   "metadata": {},
   "outputs": [
    {
     "data": {
      "text/plain": [
       "SeriousDlqin2yrs                        float64\n",
       "RevolvingUtilizationOfUnsecuredLines    float64\n",
       "age                                       int64\n",
       "DebtRatio                               float64\n",
       "MonthlyIncome                           float64\n",
       "NumberOfTime30-59DaysPastDueNotWorse      int64\n",
       "NumberOfOpenCreditLinesAndLoans           int64\n",
       "NumberOfTimes90DaysLate                   int64\n",
       "NumberRealEstateLoansOrLines              int64\n",
       "NumberOfTime60-89DaysPastDueNotWorse      int64\n",
       "NumberOfDependents                      float64\n",
       "dtype: object"
      ]
     },
     "execution_count": 23,
     "metadata": {},
     "output_type": "execute_result"
    }
   ],
   "source": [
    "df_test.dtypes"
   ]
  },
  {
   "cell_type": "code",
   "execution_count": 24,
   "id": "cc824b26",
   "metadata": {},
   "outputs": [
    {
     "data": {
      "text/plain": [
       "SeriousDlqin2yrs                        101503\n",
       "RevolvingUtilizationOfUnsecuredLines         0\n",
       "age                                          0\n",
       "DebtRatio                                    0\n",
       "MonthlyIncome                            20103\n",
       "NumberOfTime30-59DaysPastDueNotWorse         0\n",
       "NumberOfOpenCreditLinesAndLoans              0\n",
       "NumberOfTimes90DaysLate                      0\n",
       "NumberRealEstateLoansOrLines                 0\n",
       "NumberOfTime60-89DaysPastDueNotWorse         0\n",
       "NumberOfDependents                        2626\n",
       "dtype: int64"
      ]
     },
     "execution_count": 24,
     "metadata": {},
     "output_type": "execute_result"
    }
   ],
   "source": [
    "df_test.isnull().sum()"
   ]
  },
  {
   "cell_type": "code",
   "execution_count": 25,
   "id": "ed70e117",
   "metadata": {
    "scrolled": true
   },
   "outputs": [
    {
     "name": "stderr",
     "output_type": "stream",
     "text": [
      "C:\\Users\\R430i\\anaconda3\\lib\\site-packages\\sklearn\\impute\\_base.py:49: FutureWarning: Unlike other reduction functions (e.g. `skew`, `kurtosis`), the default behavior of `mode` typically preserves the axis it acts along. In SciPy 1.11.0, this behavior will change: the default value of `keepdims` will become False, the `axis` over which the statistic is taken will be eliminated, and the value None will no longer be accepted. Set `keepdims` to True or False to avoid this warning.\n",
      "  mode = stats.mode(array)\n"
     ]
    },
    {
     "data": {
      "text/plain": [
       "SeriousDlqin2yrs                        101503\n",
       "RevolvingUtilizationOfUnsecuredLines         0\n",
       "age                                          0\n",
       "DebtRatio                                    0\n",
       "MonthlyIncome                                0\n",
       "NumberOfTime30-59DaysPastDueNotWorse         0\n",
       "NumberOfOpenCreditLinesAndLoans              0\n",
       "NumberOfTimes90DaysLate                      0\n",
       "NumberRealEstateLoansOrLines                 0\n",
       "NumberOfTime60-89DaysPastDueNotWorse         0\n",
       "NumberOfDependents                           0\n",
       "dtype: int64"
      ]
     },
     "execution_count": 25,
     "metadata": {},
     "output_type": "execute_result"
    }
   ],
   "source": [
    "imp_median.fit(df_test[['MonthlyIncome']])\n",
    "imp_mode.fit(df_test[['NumberOfDependents']])\n",
    "\n",
    "df_test_mod = df_test.copy()\n",
    "\n",
    "df_test_mod[['MonthlyIncome']] = imp_median.transform(df_test_mod[['MonthlyIncome']])\n",
    "df_test_mod[['NumberOfDependents']] = imp_mode.transform(df_test_mod[['NumberOfDependents']])\n",
    "\n",
    "df_test_mod.isnull().sum()"
   ]
  },
  {
   "cell_type": "markdown",
   "id": "4c67d0c0",
   "metadata": {},
   "source": [
    "## Creating training and testing set for original data set (unmodified)"
   ]
  },
  {
   "cell_type": "code",
   "execution_count": 26,
   "id": "7605b9da",
   "metadata": {},
   "outputs": [],
   "source": [
    "X_train, y_train = df_train.drop('SeriousDlqin2yrs', axis = 1), df_train['SeriousDlqin2yrs']\n",
    "X_test, y_test = df_test.drop('SeriousDlqin2yrs', axis = 1), df_test['SeriousDlqin2yrs']"
   ]
  },
  {
   "cell_type": "markdown",
   "id": "58e66969",
   "metadata": {},
   "source": [
    "## Creating training and testing set for modified data set (only imputing missing values)"
   ]
  },
  {
   "cell_type": "code",
   "execution_count": 27,
   "id": "9615576b",
   "metadata": {},
   "outputs": [],
   "source": [
    "X_train1, X_test1, y_train1, y_test1 = train_test_split(df_train_mod.drop(columns=['SeriousDlqin2yrs']),\n",
    "                                                    df_train_mod.SeriousDlqin2yrs,\n",
    "                                                    test_size = 0.15,\n",
    "                                                    random_state = 2022,\n",
    "                                                    stratify = df_train_mod.SeriousDlqin2yrs)"
   ]
  },
  {
   "cell_type": "markdown",
   "id": "5870c385",
   "metadata": {},
   "source": [
    "## Creating training and testing set for modified data set (imputing missing values and removing data errors, such as duplicate instances in days late)"
   ]
  },
  {
   "cell_type": "code",
   "execution_count": 28,
   "id": "1e0a2de0",
   "metadata": {},
   "outputs": [],
   "source": [
    "df_train_mod2 = df_train_mod\n",
    "\n",
    "df_train_mod2 = df_train_mod2[df_train_mod2['NumberOfTime30-59DaysPastDueNotWorse'] <= 17] \n",
    "df_train_mod2 = df_train_mod2[df_train_mod2['NumberOfTimes90DaysLate'] <= 17] \n",
    "df_train_mod2 = df_train_mod2[df_train_mod2['NumberOfTime60-89DaysPastDueNotWorse'] <= 17]\n",
    "\n",
    "# df_train_mod2 = df_train_mod2.loc[df_train_mod2[\"DebtRatio\"] <= df_train_mod2[\"DebtRatio\"].quantile(0.975)]\n",
    "\n",
    "X_train2, X_test2, y_train2, y_test2 = train_test_split(df_train_mod2.drop(columns=['SeriousDlqin2yrs']),\n",
    "                                                    df_train_mod2.SeriousDlqin2yrs,\n",
    "                                                    test_size = 0.15,\n",
    "                                                    random_state = 2022,\n",
    "                                                    stratify = df_train_mod2.SeriousDlqin2yrs)"
   ]
  },
  {
   "cell_type": "markdown",
   "id": "ca5755cc",
   "metadata": {},
   "source": [
    "## Finding p-values for target data"
   ]
  },
  {
   "cell_type": "code",
   "execution_count": 29,
   "id": "2dd5b04c",
   "metadata": {},
   "outputs": [
    {
     "data": {
      "text/html": [
       "<table class=\"simpletable\">\n",
       "<caption>OLS Regression Results</caption>\n",
       "<tr>\n",
       "  <th>Dep. Variable:</th>    <td>SeriousDlqin2yrs</td> <th>  R-squared (uncentered):</th>      <td>   0.101</td>\n",
       "</tr>\n",
       "<tr>\n",
       "  <th>Model:</th>                   <td>OLS</td>       <th>  Adj. R-squared (uncentered):</th> <td>   0.101</td>\n",
       "</tr>\n",
       "<tr>\n",
       "  <th>Method:</th>             <td>Least Squares</td>  <th>  F-statistic:       </th>          <td>   1685.</td>\n",
       "</tr>\n",
       "<tr>\n",
       "  <th>Date:</th>             <td>Sun, 13 Nov 2022</td> <th>  Prob (F-statistic):</th>           <td>  0.00</td> \n",
       "</tr>\n",
       "<tr>\n",
       "  <th>Time:</th>                 <td>18:18:31</td>     <th>  Log-Likelihood:    </th>          <td> -1947.9</td>\n",
       "</tr>\n",
       "<tr>\n",
       "  <th>No. Observations:</th>      <td>150000</td>      <th>  AIC:               </th>          <td>   3916.</td>\n",
       "</tr>\n",
       "<tr>\n",
       "  <th>Df Residuals:</th>          <td>149990</td>      <th>  BIC:               </th>          <td>   4015.</td>\n",
       "</tr>\n",
       "<tr>\n",
       "  <th>Df Model:</th>              <td>    10</td>      <th>                     </th>              <td> </td>   \n",
       "</tr>\n",
       "<tr>\n",
       "  <th>Covariance Type:</th>      <td>nonrobust</td>    <th>                     </th>              <td> </td>   \n",
       "</tr>\n",
       "</table>\n",
       "<table class=\"simpletable\">\n",
       "<tr>\n",
       "                    <td></td>                      <th>coef</th>     <th>std err</th>      <th>t</th>      <th>P>|t|</th>  <th>[0.025</th>    <th>0.975]</th>  \n",
       "</tr>\n",
       "<tr>\n",
       "  <th>RevolvingUtilizationOfUnsecuredLines</th> <td>-3.546e-07</td> <td> 2.53e-06</td> <td>   -0.140</td> <td> 0.889</td> <td>-5.32e-06</td> <td> 4.61e-06</td>\n",
       "</tr>\n",
       "<tr>\n",
       "  <th>age</th>                                  <td>    0.0005</td> <td> 2.22e-05</td> <td>   23.462</td> <td> 0.000</td> <td>    0.000</td> <td>    0.001</td>\n",
       "</tr>\n",
       "<tr>\n",
       "  <th>DebtRatio</th>                            <td> -9.39e-08</td> <td> 3.14e-07</td> <td>   -0.299</td> <td> 0.765</td> <td>-7.08e-07</td> <td> 5.21e-07</td>\n",
       "</tr>\n",
       "<tr>\n",
       "  <th>MonthlyIncome</th>                        <td>-1.316e-07</td> <td> 4.95e-08</td> <td>   -2.658</td> <td> 0.008</td> <td>-2.29e-07</td> <td>-3.46e-08</td>\n",
       "</tr>\n",
       "<tr>\n",
       "  <th>NumberOfTime30-59DaysPastDueNotWorse</th> <td>    0.0510</td> <td>    0.001</td> <td>   52.921</td> <td> 0.000</td> <td>    0.049</td> <td>    0.053</td>\n",
       "</tr>\n",
       "<tr>\n",
       "  <th>NumberOfOpenCreditLinesAndLoans</th>      <td>    0.0008</td> <td>    0.000</td> <td>    5.561</td> <td> 0.000</td> <td>    0.000</td> <td>    0.001</td>\n",
       "</tr>\n",
       "<tr>\n",
       "  <th>NumberOfTimes90DaysLate</th>              <td>    0.0541</td> <td>    0.001</td> <td>   41.752</td> <td> 0.000</td> <td>    0.052</td> <td>    0.057</td>\n",
       "</tr>\n",
       "<tr>\n",
       "  <th>NumberRealEstateLoansOrLines</th>         <td>    0.0021</td> <td>    0.001</td> <td>    3.319</td> <td> 0.001</td> <td>    0.001</td> <td>    0.003</td>\n",
       "</tr>\n",
       "<tr>\n",
       "  <th>NumberOfTime60-89DaysPastDueNotWorse</th> <td>   -0.0982</td> <td>    0.001</td> <td>  -67.627</td> <td> 0.000</td> <td>   -0.101</td> <td>   -0.095</td>\n",
       "</tr>\n",
       "<tr>\n",
       "  <th>NumberOfDependents</th>                   <td>    0.0153</td> <td>    0.001</td> <td>   27.149</td> <td> 0.000</td> <td>    0.014</td> <td>    0.016</td>\n",
       "</tr>\n",
       "</table>\n",
       "<table class=\"simpletable\">\n",
       "<tr>\n",
       "  <th>Omnibus:</th>       <td>100843.349</td> <th>  Durbin-Watson:     </th>  <td>   2.000</td> \n",
       "</tr>\n",
       "<tr>\n",
       "  <th>Prob(Omnibus):</th>   <td> 0.000</td>   <th>  Jarque-Bera (JB):  </th> <td>919240.570</td>\n",
       "</tr>\n",
       "<tr>\n",
       "  <th>Skew:</th>            <td> 3.338</td>   <th>  Prob(JB):          </th>  <td>    0.00</td> \n",
       "</tr>\n",
       "<tr>\n",
       "  <th>Kurtosis:</th>        <td>13.124</td>   <th>  Cond. No.          </th>  <td>4.18e+04</td> \n",
       "</tr>\n",
       "</table><br/><br/>Notes:<br/>[1] R² is computed without centering (uncentered) since the model does not contain a constant.<br/>[2] Standard Errors assume that the covariance matrix of the errors is correctly specified.<br/>[3] The condition number is large, 4.18e+04. This might indicate that there are<br/>strong multicollinearity or other numerical problems."
      ],
      "text/plain": [
       "<class 'statsmodels.iolib.summary.Summary'>\n",
       "\"\"\"\n",
       "                                 OLS Regression Results                                \n",
       "=======================================================================================\n",
       "Dep. Variable:       SeriousDlqin2yrs   R-squared (uncentered):                   0.101\n",
       "Model:                            OLS   Adj. R-squared (uncentered):              0.101\n",
       "Method:                 Least Squares   F-statistic:                              1685.\n",
       "Date:                Sun, 13 Nov 2022   Prob (F-statistic):                        0.00\n",
       "Time:                        18:18:31   Log-Likelihood:                         -1947.9\n",
       "No. Observations:              150000   AIC:                                      3916.\n",
       "Df Residuals:                  149990   BIC:                                      4015.\n",
       "Df Model:                          10                                                  \n",
       "Covariance Type:            nonrobust                                                  \n",
       "========================================================================================================\n",
       "                                           coef    std err          t      P>|t|      [0.025      0.975]\n",
       "--------------------------------------------------------------------------------------------------------\n",
       "RevolvingUtilizationOfUnsecuredLines -3.546e-07   2.53e-06     -0.140      0.889   -5.32e-06    4.61e-06\n",
       "age                                      0.0005   2.22e-05     23.462      0.000       0.000       0.001\n",
       "DebtRatio                             -9.39e-08   3.14e-07     -0.299      0.765   -7.08e-07    5.21e-07\n",
       "MonthlyIncome                        -1.316e-07   4.95e-08     -2.658      0.008   -2.29e-07   -3.46e-08\n",
       "NumberOfTime30-59DaysPastDueNotWorse     0.0510      0.001     52.921      0.000       0.049       0.053\n",
       "NumberOfOpenCreditLinesAndLoans          0.0008      0.000      5.561      0.000       0.000       0.001\n",
       "NumberOfTimes90DaysLate                  0.0541      0.001     41.752      0.000       0.052       0.057\n",
       "NumberRealEstateLoansOrLines             0.0021      0.001      3.319      0.001       0.001       0.003\n",
       "NumberOfTime60-89DaysPastDueNotWorse    -0.0982      0.001    -67.627      0.000      -0.101      -0.095\n",
       "NumberOfDependents                       0.0153      0.001     27.149      0.000       0.014       0.016\n",
       "==============================================================================\n",
       "Omnibus:                   100843.349   Durbin-Watson:                   2.000\n",
       "Prob(Omnibus):                  0.000   Jarque-Bera (JB):           919240.570\n",
       "Skew:                           3.338   Prob(JB):                         0.00\n",
       "Kurtosis:                      13.124   Cond. No.                     4.18e+04\n",
       "==============================================================================\n",
       "\n",
       "Notes:\n",
       "[1] R² is computed without centering (uncentered) since the model does not contain a constant.\n",
       "[2] Standard Errors assume that the covariance matrix of the errors is correctly specified.\n",
       "[3] The condition number is large, 4.18e+04. This might indicate that there are\n",
       "strong multicollinearity or other numerical problems.\n",
       "\"\"\""
      ]
     },
     "execution_count": 29,
     "metadata": {},
     "output_type": "execute_result"
    }
   ],
   "source": [
    "from statsmodels.regression import linear_model\n",
    "X = df_train_mod.drop('SeriousDlqin2yrs', axis=1)\n",
    "y = df_train_mod['SeriousDlqin2yrs']\n",
    "model = linear_model.OLS(y, X).fit()\n",
    "model.summary()"
   ]
  },
  {
   "cell_type": "markdown",
   "id": "19f2b693",
   "metadata": {},
   "source": [
    "Average number of borrowers who default"
   ]
  },
  {
   "cell_type": "code",
   "execution_count": 30,
   "id": "128f9f52",
   "metadata": {},
   "outputs": [
    {
     "data": {
      "text/plain": [
       "0.06684"
      ]
     },
     "execution_count": 30,
     "metadata": {},
     "output_type": "execute_result"
    }
   ],
   "source": [
    "df_train_mod.describe()['SeriousDlqin2yrs'][1]"
   ]
  },
  {
   "cell_type": "markdown",
   "id": "75e4698a",
   "metadata": {},
   "source": [
    "Feature which has the strongest correlation with defaulting"
   ]
  },
  {
   "cell_type": "code",
   "execution_count": 31,
   "id": "fd1bc585",
   "metadata": {},
   "outputs": [
    {
     "data": {
      "text/plain": [
       "'NumberOfTimes90DaysLate'"
      ]
     },
     "execution_count": 31,
     "metadata": {},
     "output_type": "execute_result"
    }
   ],
   "source": [
    "summary_df = df_train.groupby('SeriousDlqin2yrs').sum()\n",
    "\n",
    "fraction = summary_df.loc[1] / summary_df.loc[0]\n",
    "fraction.idxmax()"
   ]
  },
  {
   "cell_type": "code",
   "execution_count": 32,
   "id": "f16987a0",
   "metadata": {},
   "outputs": [
    {
     "data": {
      "image/png": "[encoded data removed]",
      "text/plain": [
       "<Figure size 640x480 with 2 Axes>"
      ]
     },
     "metadata": {},
     "output_type": "display_data"
    }
   ],
   "source": [
    "sns.heatmap(df_train_mod2.corr(), annot = False)\n",
    "plt.show()"
   ]
  },
  {
   "cell_type": "markdown",
   "id": "35cdf0c7",
   "metadata": {},
   "source": [
    "# Modelling and Scoring"
   ]
  },
  {
   "cell_type": "code",
   "execution_count": 33,
   "id": "395318dd",
   "metadata": {},
   "outputs": [
    {
     "data": {
      "text/html": [
       "<div>\n",
       "<style scoped>\n",
       "    .dataframe tbody tr th:only-of-type {\n",
       "        vertical-align: middle;\n",
       "    }\n",
       "\n",
       "    .dataframe tbody tr th {\n",
       "        vertical-align: top;\n",
       "    }\n",
       "\n",
       "    .dataframe thead th {\n",
       "        text-align: right;\n",
       "    }\n",
       "</style>\n",
       "<table border=\"1\" class=\"dataframe\">\n",
       "  <thead>\n",
       "    <tr style=\"text-align: right;\">\n",
       "      <th></th>\n",
       "      <th></th>\n",
       "      <th>Precision</th>\n",
       "      <th>Recall</th>\n",
       "      <th>Score</th>\n",
       "      <th>Model</th>\n",
       "    </tr>\n",
       "    <tr>\n",
       "      <th>model names</th>\n",
       "      <th>technique</th>\n",
       "      <th></th>\n",
       "      <th></th>\n",
       "      <th></th>\n",
       "      <th></th>\n",
       "    </tr>\n",
       "  </thead>\n",
       "  <tbody>\n",
       "    <tr>\n",
       "      <th rowspan=\"7\" valign=\"top\">LR_L2</th>\n",
       "      <th>Baseline</th>\n",
       "      <td>NaN</td>\n",
       "      <td>NaN</td>\n",
       "      <td>NaN</td>\n",
       "      <td>NaN</td>\n",
       "    </tr>\n",
       "    <tr>\n",
       "      <th>Scaling</th>\n",
       "      <td>NaN</td>\n",
       "      <td>NaN</td>\n",
       "      <td>NaN</td>\n",
       "      <td>NaN</td>\n",
       "    </tr>\n",
       "    <tr>\n",
       "      <th>Feature Engineering</th>\n",
       "      <td>NaN</td>\n",
       "      <td>NaN</td>\n",
       "      <td>NaN</td>\n",
       "      <td>NaN</td>\n",
       "    </tr>\n",
       "    <tr>\n",
       "      <th>Feature_Selection</th>\n",
       "      <td>NaN</td>\n",
       "      <td>NaN</td>\n",
       "      <td>NaN</td>\n",
       "      <td>NaN</td>\n",
       "    </tr>\n",
       "    <tr>\n",
       "      <th>Grid Search</th>\n",
       "      <td>NaN</td>\n",
       "      <td>NaN</td>\n",
       "      <td>NaN</td>\n",
       "      <td>NaN</td>\n",
       "    </tr>\n",
       "    <tr>\n",
       "      <th>Stacking</th>\n",
       "      <td>NaN</td>\n",
       "      <td>NaN</td>\n",
       "      <td>NaN</td>\n",
       "      <td>NaN</td>\n",
       "    </tr>\n",
       "    <tr>\n",
       "      <th>Bagging</th>\n",
       "      <td>NaN</td>\n",
       "      <td>NaN</td>\n",
       "      <td>NaN</td>\n",
       "      <td>NaN</td>\n",
       "    </tr>\n",
       "    <tr>\n",
       "      <th rowspan=\"7\" valign=\"top\">LR_L1</th>\n",
       "      <th>Baseline</th>\n",
       "      <td>NaN</td>\n",
       "      <td>NaN</td>\n",
       "      <td>NaN</td>\n",
       "      <td>NaN</td>\n",
       "    </tr>\n",
       "    <tr>\n",
       "      <th>Scaling</th>\n",
       "      <td>NaN</td>\n",
       "      <td>NaN</td>\n",
       "      <td>NaN</td>\n",
       "      <td>NaN</td>\n",
       "    </tr>\n",
       "    <tr>\n",
       "      <th>Feature Engineering</th>\n",
       "      <td>NaN</td>\n",
       "      <td>NaN</td>\n",
       "      <td>NaN</td>\n",
       "      <td>NaN</td>\n",
       "    </tr>\n",
       "    <tr>\n",
       "      <th>Feature_Selection</th>\n",
       "      <td>NaN</td>\n",
       "      <td>NaN</td>\n",
       "      <td>NaN</td>\n",
       "      <td>NaN</td>\n",
       "    </tr>\n",
       "    <tr>\n",
       "      <th>Grid Search</th>\n",
       "      <td>NaN</td>\n",
       "      <td>NaN</td>\n",
       "      <td>NaN</td>\n",
       "      <td>NaN</td>\n",
       "    </tr>\n",
       "    <tr>\n",
       "      <th>Stacking</th>\n",
       "      <td>NaN</td>\n",
       "      <td>NaN</td>\n",
       "      <td>NaN</td>\n",
       "      <td>NaN</td>\n",
       "    </tr>\n",
       "    <tr>\n",
       "      <th>Bagging</th>\n",
       "      <td>NaN</td>\n",
       "      <td>NaN</td>\n",
       "      <td>NaN</td>\n",
       "      <td>NaN</td>\n",
       "    </tr>\n",
       "    <tr>\n",
       "      <th rowspan=\"7\" valign=\"top\">CART</th>\n",
       "      <th>Baseline</th>\n",
       "      <td>NaN</td>\n",
       "      <td>NaN</td>\n",
       "      <td>NaN</td>\n",
       "      <td>NaN</td>\n",
       "    </tr>\n",
       "    <tr>\n",
       "      <th>Scaling</th>\n",
       "      <td>NaN</td>\n",
       "      <td>NaN</td>\n",
       "      <td>NaN</td>\n",
       "      <td>NaN</td>\n",
       "    </tr>\n",
       "    <tr>\n",
       "      <th>Feature Engineering</th>\n",
       "      <td>NaN</td>\n",
       "      <td>NaN</td>\n",
       "      <td>NaN</td>\n",
       "      <td>NaN</td>\n",
       "    </tr>\n",
       "    <tr>\n",
       "      <th>Feature_Selection</th>\n",
       "      <td>NaN</td>\n",
       "      <td>NaN</td>\n",
       "      <td>NaN</td>\n",
       "      <td>NaN</td>\n",
       "    </tr>\n",
       "    <tr>\n",
       "      <th>Grid Search</th>\n",
       "      <td>NaN</td>\n",
       "      <td>NaN</td>\n",
       "      <td>NaN</td>\n",
       "      <td>NaN</td>\n",
       "    </tr>\n",
       "    <tr>\n",
       "      <th>Stacking</th>\n",
       "      <td>NaN</td>\n",
       "      <td>NaN</td>\n",
       "      <td>NaN</td>\n",
       "      <td>NaN</td>\n",
       "    </tr>\n",
       "    <tr>\n",
       "      <th>Bagging</th>\n",
       "      <td>NaN</td>\n",
       "      <td>NaN</td>\n",
       "      <td>NaN</td>\n",
       "      <td>NaN</td>\n",
       "    </tr>\n",
       "    <tr>\n",
       "      <th rowspan=\"7\" valign=\"top\">RF</th>\n",
       "      <th>Baseline</th>\n",
       "      <td>NaN</td>\n",
       "      <td>NaN</td>\n",
       "      <td>NaN</td>\n",
       "      <td>NaN</td>\n",
       "    </tr>\n",
       "    <tr>\n",
       "      <th>Scaling</th>\n",
       "      <td>NaN</td>\n",
       "      <td>NaN</td>\n",
       "      <td>NaN</td>\n",
       "      <td>NaN</td>\n",
       "    </tr>\n",
       "    <tr>\n",
       "      <th>Feature Engineering</th>\n",
       "      <td>NaN</td>\n",
       "      <td>NaN</td>\n",
       "      <td>NaN</td>\n",
       "      <td>NaN</td>\n",
       "    </tr>\n",
       "    <tr>\n",
       "      <th>Feature_Selection</th>\n",
       "      <td>NaN</td>\n",
       "      <td>NaN</td>\n",
       "      <td>NaN</td>\n",
       "      <td>NaN</td>\n",
       "    </tr>\n",
       "    <tr>\n",
       "      <th>Grid Search</th>\n",
       "      <td>NaN</td>\n",
       "      <td>NaN</td>\n",
       "      <td>NaN</td>\n",
       "      <td>NaN</td>\n",
       "    </tr>\n",
       "    <tr>\n",
       "      <th>Stacking</th>\n",
       "      <td>NaN</td>\n",
       "      <td>NaN</td>\n",
       "      <td>NaN</td>\n",
       "      <td>NaN</td>\n",
       "    </tr>\n",
       "    <tr>\n",
       "      <th>Bagging</th>\n",
       "      <td>NaN</td>\n",
       "      <td>NaN</td>\n",
       "      <td>NaN</td>\n",
       "      <td>NaN</td>\n",
       "    </tr>\n",
       "  </tbody>\n",
       "</table>\n",
       "</div>"
      ],
      "text/plain": [
       "                                 Precision  Recall  Score Model\n",
       "model names technique                                          \n",
       "LR_L2       Baseline                   NaN     NaN    NaN   NaN\n",
       "            Scaling                    NaN     NaN    NaN   NaN\n",
       "            Feature Engineering        NaN     NaN    NaN   NaN\n",
       "            Feature_Selection          NaN     NaN    NaN   NaN\n",
       "            Grid Search                NaN     NaN    NaN   NaN\n",
       "            Stacking                   NaN     NaN    NaN   NaN\n",
       "            Bagging                    NaN     NaN    NaN   NaN\n",
       "LR_L1       Baseline                   NaN     NaN    NaN   NaN\n",
       "            Scaling                    NaN     NaN    NaN   NaN\n",
       "            Feature Engineering        NaN     NaN    NaN   NaN\n",
       "            Feature_Selection          NaN     NaN    NaN   NaN\n",
       "            Grid Search                NaN     NaN    NaN   NaN\n",
       "            Stacking                   NaN     NaN    NaN   NaN\n",
       "            Bagging                    NaN     NaN    NaN   NaN\n",
       "CART        Baseline                   NaN     NaN    NaN   NaN\n",
       "            Scaling                    NaN     NaN    NaN   NaN\n",
       "            Feature Engineering        NaN     NaN    NaN   NaN\n",
       "            Feature_Selection          NaN     NaN    NaN   NaN\n",
       "            Grid Search                NaN     NaN    NaN   NaN\n",
       "            Stacking                   NaN     NaN    NaN   NaN\n",
       "            Bagging                    NaN     NaN    NaN   NaN\n",
       "RF          Baseline                   NaN     NaN    NaN   NaN\n",
       "            Scaling                    NaN     NaN    NaN   NaN\n",
       "            Feature Engineering        NaN     NaN    NaN   NaN\n",
       "            Feature_Selection          NaN     NaN    NaN   NaN\n",
       "            Grid Search                NaN     NaN    NaN   NaN\n",
       "            Stacking                   NaN     NaN    NaN   NaN\n",
       "            Bagging                    NaN     NaN    NaN   NaN"
      ]
     },
     "execution_count": 33,
     "metadata": {},
     "output_type": "execute_result"
    }
   ],
   "source": [
    "def make_models():\n",
    "  \"\"\"Makes a dictionary of four untrained models\"\"\"\n",
    "  \n",
    "  return {\n",
    "      'LR_L2': LogisticRegression(random_state=0, max_iter=1000),\n",
    "      'LR_L1': LogisticRegression(random_state=0, penalty='l1', solver='liblinear', class_weight='balanced', max_iter=500),\n",
    "      'CART': DecisionTreeClassifier(random_state=0, class_weight='balanced'),\n",
    "      'RF': RandomForestClassifier(random_state=0, class_weight='balanced'),\n",
    "  }\n",
    "\n",
    "# Initialize a tuple of names for each model\n",
    "model_names = ('LR_L2',  # Logistic regression with L2 regularizer\n",
    "               'LR_L1',  # Logistic regression with L1 regularizer\n",
    "               'CART',  # CART tree classifier\n",
    "               'RF'  # Random forest classifier \n",
    "               )\n",
    "# Initialize a tuple of technique names that we will cover\n",
    "engineering_techniques = ('Baseline',  # Set of baseline models\n",
    "                          'Scaling',  # Set of models trained with scaled data\n",
    "                          'Feature Engineering',  # Set of models trained with engineered features\n",
    "                          'Feature_Selection',  # Set of models trained with \"selected\" features\n",
    "                          'Grid Search',  # Set of models trained via grid search\n",
    "                          'Stacking',  # Set of stacked model \n",
    "                          'Bagging'  # A bagged model\n",
    "                          )\n",
    "\n",
    "# Initialize the multi indices of the `all_models` data frame\n",
    "df_indices = pd.MultiIndex.from_product([model_names, engineering_techniques], names=('model names', 'technique'))\n",
    "# Initialize the `all_models` data frame\n",
    "all_models = pd.DataFrame(index=df_indices, columns=['Precision', 'Recall', 'Score', 'Model'])\n",
    "all_models[['Precision', 'Recall', 'Score']] = all_models[['Precision', 'Recall', 'Score']].astype(float)\n",
    "all_models  # Initialized data frame only has NaNs, which is perfect!"
   ]
  },
  {
   "cell_type": "code",
   "execution_count": 34,
   "id": "23cd378b",
   "metadata": {},
   "outputs": [
    {
     "name": "stdout",
     "output_type": "stream",
     "text": [
      "LR_L2 achieved a precision of 0.611 and recall of 0.164\n",
      "LR_L1 achieved a precision of 0.253 and recall of 0.601\n",
      "CART achieved a precision of 0.251 and recall of 0.235\n",
      "RF achieved a precision of 0.566 and recall of 0.145\n"
     ]
    },
    {
     "data": {
      "text/html": [
       "<div>\n",
       "<style scoped>\n",
       "    .dataframe tbody tr th:only-of-type {\n",
       "        vertical-align: middle;\n",
       "    }\n",
       "\n",
       "    .dataframe tbody tr th {\n",
       "        vertical-align: top;\n",
       "    }\n",
       "\n",
       "    .dataframe thead th {\n",
       "        text-align: right;\n",
       "    }\n",
       "</style>\n",
       "<table border=\"1\" class=\"dataframe\">\n",
       "  <thead>\n",
       "    <tr style=\"text-align: right;\">\n",
       "      <th></th>\n",
       "      <th>Precision</th>\n",
       "      <th>Recall</th>\n",
       "      <th>Score</th>\n",
       "      <th>Model</th>\n",
       "    </tr>\n",
       "    <tr>\n",
       "      <th>model names</th>\n",
       "      <th></th>\n",
       "      <th></th>\n",
       "      <th></th>\n",
       "      <th></th>\n",
       "    </tr>\n",
       "  </thead>\n",
       "  <tbody>\n",
       "    <tr>\n",
       "      <th>LR_L2</th>\n",
       "      <td>0.610553</td>\n",
       "      <td>0.163968</td>\n",
       "      <td>0.387260</td>\n",
       "      <td>LogisticRegression(max_iter=1000, random_state=0)</td>\n",
       "    </tr>\n",
       "    <tr>\n",
       "      <th>LR_L1</th>\n",
       "      <td>0.253413</td>\n",
       "      <td>0.601215</td>\n",
       "      <td>0.427314</td>\n",
       "      <td>LogisticRegression(class_weight='balanced', ma...</td>\n",
       "    </tr>\n",
       "    <tr>\n",
       "      <th>CART</th>\n",
       "      <td>0.251260</td>\n",
       "      <td>0.235493</td>\n",
       "      <td>0.243376</td>\n",
       "      <td>DecisionTreeClassifier(class_weight='balanced'...</td>\n",
       "    </tr>\n",
       "    <tr>\n",
       "      <th>RF</th>\n",
       "      <td>0.565789</td>\n",
       "      <td>0.145074</td>\n",
       "      <td>0.355432</td>\n",
       "      <td>(DecisionTreeClassifier(max_features='auto', r...</td>\n",
       "    </tr>\n",
       "  </tbody>\n",
       "</table>\n",
       "</div>"
      ],
      "text/plain": [
       "             Precision    Recall     Score  \\\n",
       "model names                                  \n",
       "LR_L2         0.610553  0.163968  0.387260   \n",
       "LR_L1         0.253413  0.601215  0.427314   \n",
       "CART          0.251260  0.235493  0.243376   \n",
       "RF            0.565789  0.145074  0.355432   \n",
       "\n",
       "                                                         Model  \n",
       "model names                                                     \n",
       "LR_L2        LogisticRegression(max_iter=1000, random_state=0)  \n",
       "LR_L1        LogisticRegression(class_weight='balanced', ma...  \n",
       "CART         DecisionTreeClassifier(class_weight='balanced'...  \n",
       "RF           (DecisionTreeClassifier(max_features='auto', r...  "
      ]
     },
     "execution_count": 34,
     "metadata": {},
     "output_type": "execute_result"
    }
   ],
   "source": [
    "# from sklearn.metrics import precision_score, recall_score\n",
    "\n",
    "def fit_and_score_model(all_models, stage_name, X_train, X_out_of_sample, y_train, y_out_of_sample):\n",
    "    \"\"\"Fits the models that are initialized by models_dict on the X_train and y_train\n",
    "    data, and evaluates the model on the out-of-sample data X_out_of_sample and y_out_of_sample\"\"\"\n",
    "    \n",
    "    # Make a dictionary of models\n",
    "    models_dict = make_models()\n",
    "\n",
    "    # Loop through each model in model_dict\n",
    "    for model_name in models_dict:\n",
    "        model = models_dict[model_name]\n",
    "\n",
    "\n",
    "        model.fit(X_train, y_train)  # fit the model\n",
    "        model_precision = precision_score(y_out_of_sample, model.predict(X_out_of_sample))  # evaluate precision on test set\n",
    "        model_recall = recall_score(y_out_of_sample, model.predict(X_out_of_sample))  # evaluate recall on test set\n",
    "        model_score = (model_precision + model_recall) / 2\n",
    "        \n",
    "        print(f'{model_name} achieved a precision of {model_precision:.3f} and recall of {model_recall:.3f}')\n",
    "        \n",
    "        all_models.loc[model_name, stage_name] = np.array((model_precision, model_recall, model_score, model), dtype='object')\n",
    "\n",
    "    return all_models\n",
    "    \n",
    "all_models = fit_and_score_model(all_models, 'Baseline', X_train2, X_test2, y_train2, y_test2)\n",
    "all_models.loc[:, 'Baseline', :].head()"
   ]
  },
  {
   "cell_type": "code",
   "execution_count": 35,
   "id": "ce79386d",
   "metadata": {},
   "outputs": [
    {
     "name": "stdout",
     "output_type": "stream",
     "text": [
      "LR_L2 achieved a precision of 0.610 and recall of 0.159\n",
      "LR_L1 achieved a precision of 0.253 and recall of 0.601\n",
      "CART achieved a precision of 0.257 and recall of 0.233\n",
      "RF achieved a precision of 0.554 and recall of 0.142\n"
     ]
    },
    {
     "data": {
      "text/html": [
       "<div>\n",
       "<style scoped>\n",
       "    .dataframe tbody tr th:only-of-type {\n",
       "        vertical-align: middle;\n",
       "    }\n",
       "\n",
       "    .dataframe tbody tr th {\n",
       "        vertical-align: top;\n",
       "    }\n",
       "\n",
       "    .dataframe thead th {\n",
       "        text-align: right;\n",
       "    }\n",
       "</style>\n",
       "<table border=\"1\" class=\"dataframe\">\n",
       "  <thead>\n",
       "    <tr style=\"text-align: right;\">\n",
       "      <th></th>\n",
       "      <th>Precision</th>\n",
       "      <th>Recall</th>\n",
       "      <th>Score</th>\n",
       "      <th>Model</th>\n",
       "    </tr>\n",
       "    <tr>\n",
       "      <th>model names</th>\n",
       "      <th></th>\n",
       "      <th></th>\n",
       "      <th></th>\n",
       "      <th></th>\n",
       "    </tr>\n",
       "  </thead>\n",
       "  <tbody>\n",
       "    <tr>\n",
       "      <th>LR_L2</th>\n",
       "      <td>0.609819</td>\n",
       "      <td>0.159244</td>\n",
       "      <td>0.384532</td>\n",
       "      <td>LogisticRegression(max_iter=1000, random_state=0)</td>\n",
       "    </tr>\n",
       "    <tr>\n",
       "      <th>LR_L1</th>\n",
       "      <td>0.253413</td>\n",
       "      <td>0.601215</td>\n",
       "      <td>0.427314</td>\n",
       "      <td>LogisticRegression(class_weight='balanced', ma...</td>\n",
       "    </tr>\n",
       "    <tr>\n",
       "      <th>CART</th>\n",
       "      <td>0.256506</td>\n",
       "      <td>0.232794</td>\n",
       "      <td>0.244650</td>\n",
       "      <td>DecisionTreeClassifier(class_weight='balanced'...</td>\n",
       "    </tr>\n",
       "    <tr>\n",
       "      <th>RF</th>\n",
       "      <td>0.554090</td>\n",
       "      <td>0.141700</td>\n",
       "      <td>0.347895</td>\n",
       "      <td>(DecisionTreeClassifier(max_features='auto', r...</td>\n",
       "    </tr>\n",
       "  </tbody>\n",
       "</table>\n",
       "</div>"
      ],
      "text/plain": [
       "             Precision    Recall     Score  \\\n",
       "model names                                  \n",
       "LR_L2         0.609819  0.159244  0.384532   \n",
       "LR_L1         0.253413  0.601215  0.427314   \n",
       "CART          0.256506  0.232794  0.244650   \n",
       "RF            0.554090  0.141700  0.347895   \n",
       "\n",
       "                                                         Model  \n",
       "model names                                                     \n",
       "LR_L2        LogisticRegression(max_iter=1000, random_state=0)  \n",
       "LR_L1        LogisticRegression(class_weight='balanced', ma...  \n",
       "CART         DecisionTreeClassifier(class_weight='balanced'...  \n",
       "RF           (DecisionTreeClassifier(max_features='auto', r...  "
      ]
     },
     "execution_count": 35,
     "metadata": {},
     "output_type": "execute_result"
    }
   ],
   "source": [
    "technique_name = 'Scaling'\n",
    "\n",
    "def standardize_data(X_train, X_out_of_sample):\n",
    "    \"\"\"standardizes all of the data in X_train and X_out_of_sample. The mean and\n",
    "    standard deviation of each feature (i.e., each column) from the X_train\n",
    "    data is used to standardize both the X_train and X_out_of sample.\"\"\"\n",
    "\n",
    "    # Initialize data frame for scaled data\n",
    "    X_train_standardized = X_train.copy()\n",
    "    X_out_of_sample_standardized = X_out_of_sample.copy()\n",
    "\n",
    "    # Define scaling function\n",
    "    scaler = StandardScaler()\n",
    "    \n",
    "    # -------------------------------------------------------------------------\n",
    "\n",
    "    scaler.fit(X_train)\n",
    "\n",
    "    X_train_standardized.loc[:]  = scaler.transform(X_train)\n",
    "    X_out_of_sample_standardized.loc[:] = scaler.transform(X_out_of_sample)\n",
    "                        \n",
    "    # -------------------------------------------------------------------------\n",
    "\n",
    "    return X_train_standardized, X_out_of_sample_standardized, scaler\n",
    "\n",
    "# Make new data that is scaled\"\n",
    "X_train_scaled, X_test_scaled, scaler = standardize_data(X_train2, X_test2)\n",
    "\n",
    "# Fit and score a model trained with scaled data\n",
    "all_models = fit_and_score_model(all_models, technique_name, X_train_scaled, X_test_scaled, y_train2, y_test2)\n",
    "all_models.loc[:, technique_name, :].head()"
   ]
  },
  {
   "cell_type": "code",
   "execution_count": 36,
   "id": "3790e754",
   "metadata": {},
   "outputs": [],
   "source": [
    "def compare_models(technique_name):\n",
    "  \"\"\"Prints out the average and biggest improvement observed between the \n",
    "  models trained with technique_name and the Baseline models\"\"\"\n",
    "\n",
    "  # Evaluate score differences\n",
    "  score_differences = (all_models.loc[:, technique_name, :].Score.values - all_models.loc[:, 'Baseline', :].Score.values)\n",
    "  \n",
    "  # Get the average and biggest score improvement\n",
    "  mean_score_difference = score_differences.mean()\n",
    "  most_score_improvement = score_differences.max()\n",
    "\n",
    "  print(f'On average, scores improved by {mean_score_difference:.3f}, and the most improvement was {most_score_improvement:.3f}')"
   ]
  },
  {
   "cell_type": "markdown",
   "id": "c9a40cc6",
   "metadata": {},
   "source": [
    "## Computing F-Scores"
   ]
  },
  {
   "cell_type": "code",
   "execution_count": 37,
   "id": "39891bc3",
   "metadata": {},
   "outputs": [
    {
     "name": "stdout",
     "output_type": "stream",
     "text": [
      "age + NumberOfTime30-59DaysPastDueNotWorse has an F-score of 8575.26\n",
      "\tBetter by a factor of 5.10 over features in isolation\n",
      "\tThe result is significant (p = [0.])\n",
      "DebtRatio + NumberOfTimes90DaysLate has an F-score of 1139.17\n",
      "\tBetter by a factor of 34.18 over features in isolation\n",
      "\tThe result is significant (p = [1.2814024e-248])\n",
      "DebtRatio + NumberOfTime60-89DaysPastDueNotWorse has an F-score of 744.22\n",
      "\tBetter by a factor of 8.61 over features in isolation\n",
      "\tThe result is significant (p = [2.14551502e-163])\n",
      "MonthlyIncome + NumberOfTime30-59DaysPastDueNotWorse has an F-score of 2731.44\n",
      "\tBetter by a factor of 81.94 over features in isolation\n",
      "\tThe result is significant (p = [0.])\n",
      "MonthlyIncome + NumberOfTimes90DaysLate has an F-score of 7409.77\n",
      "\tBetter by a factor of 222.29 over features in isolation\n",
      "\tThe result is significant (p = [0.])\n",
      "NumberOfOpenCreditLinesAndLoans + NumberOfTimes90DaysLate has an F-score of 7911.52\n",
      "\tBetter by a factor of 91.51 over features in isolation\n",
      "\tThe result is significant (p = [0.])\n",
      "NumberOfOpenCreditLinesAndLoans + NumberOfTime60-89DaysPastDueNotWorse has an F-score of 5465.20\n",
      "\tBetter by a factor of 63.21 over features in isolation\n",
      "\tThe result is significant (p = [0.])\n",
      "NumberRealEstateLoansOrLines + NumberOfTime60-89DaysPastDueNotWorse has an F-score of 2230.44\n",
      "\tBetter by a factor of 982.61 over features in isolation\n",
      "\tThe result is significant (p = [0.])\n"
     ]
    }
   ],
   "source": [
    "%%capture --no-stdout  \n",
    "# from sklearn.feature_selection import f_classif\n",
    "# Create a list of F-values for the existing features\n",
    "feature_F_scores, _ = f_classif(X_train2, y_train2)\n",
    "\n",
    "# Iterate through each combination of features\n",
    "for f1_index, f1 in enumerate(X_train2.columns):\n",
    "  for f2_index, f2 in enumerate(X_train2.columns[f1_index + 1:]):\n",
    "    # Multiply the two features to create a new feature\n",
    "    new_feature = X_train2[[f1]].multiply(X_train2[f2], axis=0)\n",
    "    # Evaluate F-value of new feature\n",
    "    F_Score_new, p_value_new = f_classif(new_feature, y_train2)\n",
    "    # Evaluate the relative improvement of the new feature\n",
    "    F_score_improvement = F_Score_new[0] / max(feature_F_scores[[f1_index, f2_index]])\n",
    "    # Print out features that is sufficiently improved \n",
    "    if F_score_improvement >= 1.5 and F_Score_new[0] >= 75 and p_value_new < 0.05:\n",
    "        '''Note that F_score_improvement >= 1.5 and F_Score_new[0] >= 75 is\n",
    "         relatively arbitrary, and that other values could be used.'''\n",
    "        print(f'{f1} + {f2} has an F-score of {F_Score_new[0]:.2f}')\n",
    "        print(f'\\tBetter by a factor of {F_score_improvement:.2f} over features in isolation')\n",
    "        print(f'\\tThe result is significant (p = {p_value_new})')"
   ]
  },
  {
   "cell_type": "code",
   "execution_count": 38,
   "id": "3f8570e5",
   "metadata": {},
   "outputs": [
    {
     "name": "stderr",
     "output_type": "stream",
     "text": [
      "C:\\Users\\R430i\\anaconda3\\lib\\site-packages\\sklearn\\metrics\\_classification.py:1318: UndefinedMetricWarning: Precision is ill-defined and being set to 0.0 due to no predicted samples. Use `zero_division` parameter to control this behavior.\n",
      "  _warn_prf(average, modifier, msg_start, len(result))\n"
     ]
    },
    {
     "name": "stdout",
     "output_type": "stream",
     "text": [
      "LR_L2 achieved a precision of 0.000 and recall of 0.000\n",
      "LR_L1 achieved a precision of 0.254 and recall of 0.601\n",
      "CART achieved a precision of 0.267 and recall of 0.250\n",
      "RF achieved a precision of 0.568 and recall of 0.142\n",
      "On average, scores improved by -0.093, and the most improvement was 0.015\n"
     ]
    }
   ],
   "source": [
    "technique_name = 'Feature Engineering'\n",
    "\n",
    "def new_feature_combos(X):\n",
    "    \"\"\"\n",
    "    Make a new set of X data by doing algorithmic feature engineering\n",
    "    \"\"\"\n",
    "\n",
    "    # First, we make a copy of the original X features\n",
    "    X_new = X.copy()\n",
    "    \n",
    "    # Then we add new features\n",
    "    X_new['DebtRatio * MonthlyIncome'] = X_new.DebtRatio * X_new.MonthlyIncome\n",
    "\n",
    "    # Add any additional features that you might have found here\n",
    "    return X_new\n",
    "\n",
    "# Make new X features with interactions\n",
    "X_train_interactions = new_feature_combos(X_train2)\n",
    "X_test_interactions = new_feature_combos(X_test2)\n",
    "\n",
    "# Fit and score the model, save it to the all models dictionary\n",
    "all_models = fit_and_score_model(all_models, technique_name, X_train_interactions, X_test_interactions, y_train2, y_test2)\n",
    "compare_models(technique_name)"
   ]
  },
  {
   "cell_type": "code",
   "execution_count": 39,
   "id": "f6951697",
   "metadata": {},
   "outputs": [
    {
     "data": {
      "text/plain": [
       "Index(['age', 'NumberOfTime30-59DaysPastDueNotWorse',\n",
       "       'NumberOfTimes90DaysLate', 'NumberOfTime60-89DaysPastDueNotWorse',\n",
       "       'NumberOfDependents'],\n",
       "      dtype='object')"
      ]
     },
     "execution_count": 39,
     "metadata": {},
     "output_type": "execute_result"
    }
   ],
   "source": [
    "select_features = SelectKBest(f_classif, k=5)\n",
    "select_features = select_features.fit(X_train2, y_train2)\n",
    "feature_mask = select_features.get_support()\n",
    "X_train_feature_selection = X_train2.iloc[:, feature_mask]\n",
    "X_test_feature_selection = X_test2.iloc[:, feature_mask]\n",
    "\n",
    "X_train2.columns[feature_mask]"
   ]
  },
  {
   "cell_type": "code",
   "execution_count": 40,
   "id": "ab11c3dc",
   "metadata": {},
   "outputs": [
    {
     "name": "stdout",
     "output_type": "stream",
     "text": [
      "LR_L2 achieved a precision of 0.605 and recall of 0.157\n",
      "LR_L1 achieved a precision of 0.253 and recall of 0.599\n",
      "CART achieved a precision of 0.194 and recall of 0.465\n",
      "RF achieved a precision of 0.210 and recall of 0.456\n",
      "On average, scores improved by 0.014, and the most improvement was 0.086\n"
     ]
    }
   ],
   "source": [
    "technique_name = 'Feature_Selection'\n",
    "all_models = fit_and_score_model(all_models, technique_name, X_train_feature_selection, X_test_feature_selection, y_train2, y_test2)\n",
    "compare_models(technique_name)"
   ]
  },
  {
   "cell_type": "code",
   "execution_count": 41,
   "id": "3886b1b7",
   "metadata": {},
   "outputs": [
    {
     "data": {
      "text/plain": [
       "GridSearchCV(cv=5, estimator=DecisionTreeClassifier(random_state=0),\n",
       "             param_grid={'class_weight': ['balanced', None],\n",
       "                         'criterion': ['gini', 'entropy'],\n",
       "                         'max_features': ['auto', 'log2', None],\n",
       "                         'min_samples_leaf': [1, 2, 5, 10, 20]},\n",
       "             refit=False, scoring=['recall', 'precision'])"
      ]
     },
     "execution_count": 41,
     "metadata": {},
     "output_type": "execute_result"
    }
   ],
   "source": [
    "params_to_search = {\n",
    "    'criterion': ['gini', 'entropy'],\n",
    "    'min_samples_leaf': [1, 2, 5, 10, 20],\n",
    "    'max_features': ['auto', 'log2', None],\n",
    "    'class_weight': ['balanced', None],\n",
    "}\n",
    "\n",
    "# Initialize a model\n",
    "mdl = DecisionTreeClassifier(random_state=0)\n",
    "# Initialize the grid search\n",
    "optimized_dt = GridSearchCV(mdl, params_to_search, scoring = ['recall', 'precision'], refit=False, cv=5)\n",
    "# Run the grid search\n",
    "optimized_dt.fit(X_train2, y_train2)"
   ]
  },
  {
   "cell_type": "code",
   "execution_count": 42,
   "id": "37c6fa90",
   "metadata": {},
   "outputs": [
    {
     "name": "stdout",
     "output_type": "stream",
     "text": [
      "The best model has a score of 0.440\n",
      "The best model has the parameters {'class_weight': 'balanced', 'criterion': 'gini', 'max_features': 'auto', 'min_samples_leaf': 20}\n"
     ]
    }
   ],
   "source": [
    "result_df = pd.DataFrame(optimized_dt.cv_results_)\n",
    "result_df['mean_test_score'] = (result_df['mean_test_recall'] + result_df['mean_test_precision'])/2\n",
    "highest_mean_score_index = result_df.mean_test_score.argmax()\n",
    "\n",
    "print(f'The best model has a score of {result_df.mean_test_score.max():.3f}')\n",
    "print(f'The best model has the parameters {result_df.params.loc[highest_mean_score_index]}')"
   ]
  },
  {
   "cell_type": "code",
   "execution_count": 43,
   "id": "9f263075",
   "metadata": {},
   "outputs": [
    {
     "data": {
      "text/plain": [
       "model names  technique  \n",
       "CART         Baseline       0.243376\n",
       "             Grid Search    0.557873\n",
       "Name: Score, dtype: float64"
      ]
     },
     "execution_count": 43,
     "metadata": {},
     "output_type": "execute_result"
    }
   ],
   "source": [
    "mean_test_pr = optimized_dt.cv_results_['mean_test_precision']\n",
    "mean_test_re = optimized_dt.cv_results_['mean_test_recall']\n",
    "\n",
    "params = optimized_dt.cv_results_['params']\n",
    "best_model_params_index = (mean_test_pr + mean_test_re).argmax()\n",
    "best_model_params = params[best_model_params_index]\n",
    "\n",
    "# Initialize the model \n",
    "best_model = DecisionTreeClassifier(random_state=0, **best_model_params)\n",
    "'''Note, the ** from above allows us to use a dictionary to set \n",
    "the parameters of a function'''\n",
    "\n",
    "# Fit the model on the ENTIRE training set \n",
    "best_model.fit(X_train2, y_train2)\n",
    "\n",
    "# Evaluate model precision, recall, and score\n",
    "model_precision = precision_score(y_test1, best_model.predict(X_test1))  # evaluate precision on test set\n",
    "model_recall = recall_score(y_test1, best_model.predict(X_test1))  # evaluate recall on test set\n",
    "model_score = (model_precision + model_recall) / 2\n",
    "\n",
    "# Add model scores to all_models data frame\n",
    "all_models.loc['CART', 'Grid Search'] = (model_precision, model_recall, model_score, best_model)\n",
    "all_models['Score'].loc['CART', ['Baseline', 'Grid Search']]"
   ]
  },
  {
   "cell_type": "code",
   "execution_count": 44,
   "id": "9154a4aa",
   "metadata": {},
   "outputs": [],
   "source": [
    "# Define clustering model \n",
    "mdk_k_means = KMeans(n_init = 2,  # number of different centroid seed initializations (number of times algorithm is run)\n",
    "                   n_clusters=10,  # number of clusters (k)\n",
    "                   random_state = 0)  # random seed for k-means algorithm\n",
    "\n",
    "# Fit the model to the training set\n",
    "mdk_k_means.fit(X_train2)\n",
    "\n",
    "# Get cluster assignments for each data point\n",
    "clK = mdk_k_means.predict(X_train2)\n",
    "\n",
    "# Get the centroid of each cluster\n",
    "Centroids = mdk_k_means.cluster_centers_"
   ]
  },
  {
   "cell_type": "code",
   "execution_count": 45,
   "id": "b2c69c98",
   "metadata": {},
   "outputs": [
    {
     "name": "stdout",
     "output_type": "stream",
     "text": [
      "LR_L2 achieved a precision of 0.614 and recall of 0.162\n",
      "LR_L1 achieved a precision of 0.255 and recall of 0.606\n",
      "CART achieved a precision of 0.253 and recall of 0.237\n",
      "RF achieved a precision of 0.581 and recall of 0.152\n",
      "On average, scores improved by 0.004, and the most improvement was 0.011\n"
     ]
    }
   ],
   "source": [
    "'''A stacked model that begins with clustering'''\n",
    "technique_name = 'Stacking'\n",
    "\n",
    "# Initialize the clustering model\n",
    "model = KMeans(n_init=10, n_clusters=6, random_state=0)\n",
    "model.fit(X_train2)\n",
    "\n",
    "# Stack training data\n",
    "X_train_prediction = pd.Series(model.predict(X_train2), \n",
    "                            name='cluster',\n",
    "                            index=X_train2.index)\n",
    "\n",
    "# One-hot-encode cluster numbers\n",
    "X_train_prediction = pd.get_dummies(X_train_prediction)\n",
    "\n",
    "# Stack testing data\n",
    "X_test_prediction = pd.Series(model.predict(X_test2),\n",
    "                             name='cluster',\n",
    "                             index=X_test2.index)\n",
    "# One-hot-encode cluster numbers\n",
    "X_test_prediction = pd.get_dummies(X_test_prediction)\n",
    "# Get cluster numbers that weren't predicted in the testing set\n",
    "missing_cluster_columns = X_train_prediction.columns.difference(X_test_prediction.columns)\n",
    "# Add missing cluster dummy variables\n",
    "X_test_prediction[missing_cluster_columns] = 0\n",
    "\n",
    "# convert column names from int to str\n",
    "X_train_prediction.columns = [str(c) for c in X_train_prediction.columns]\n",
    "X_test_prediction.columns = [str(c) for c in X_test_prediction.columns]\n",
    "X_test_prediction = X_test_prediction[[c for c in X_train_prediction.columns]]\n",
    "\n",
    "# Add cluster numbers to features -- training\n",
    "X_train_stacked = X_train2.join(X_train_prediction)\n",
    "\n",
    "# Add cluster numbers to features -- test\n",
    "X_test_stacked = X_test2.join(X_test_prediction)\n",
    "\n",
    "# We will use logistic regression instead of a decision tree at the higher-level classifier\n",
    "all_models = fit_and_score_model(all_models, technique_name, X_train_stacked, X_test_stacked, y_train2, y_test2)\n",
    "compare_models(technique_name)"
   ]
  },
  {
   "cell_type": "code",
   "execution_count": 46,
   "id": "d94fa132",
   "metadata": {},
   "outputs": [
    {
     "name": "stdout",
     "output_type": "stream",
     "text": [
      "On average, scores improved by 0.026, and the most improvement was 0.136\n"
     ]
    }
   ],
   "source": [
    "# from sklearn.ensemble import VotingClassifier\n",
    "technique_name = 'Bagging'\n",
    "\n",
    "# Get a list of initialized models for bagging\n",
    "models_dict = make_models()\n",
    "# Convert models to list of tuples (required by documentation)\n",
    "model_list = list(models_dict.items()) \n",
    "\n",
    "# Set the weights for each model as their relative performance\n",
    "bagging_weights = all_models.Score[:,'Baseline'].values\n",
    "\n",
    "# Initialize bagging model\n",
    "bagging_model = VotingClassifier(model_list, weights=bagging_weights)\n",
    "# Fit the bagging model (i.e., each of the four models that are bagged)\n",
    "bagging_model.fit(X_train2, y_train2)\n",
    "\n",
    "# Predict the target using the bagged model\n",
    "bagging_prediction = bagging_model.predict(X_test2)\n",
    "\n",
    "# Evaluate ensemble model\n",
    "model_precision = precision_score(y_test2,  bagging_prediction)  # evaluate precision on testing set\n",
    "model_recall = recall_score(y_test2,  bagging_prediction)  # evaluate recall on testing set\n",
    "model_score = (model_precision + model_recall) / 2\n",
    "\n",
    "# Add ensemble model to all_models dataframe\n",
    "all_models.loc[:, technique_name, :] = (model_precision, model_recall, model_score, None) \n",
    "compare_models(technique_name)"
   ]
  },
  {
   "cell_type": "code",
   "execution_count": 47,
   "id": "08ed690a",
   "metadata": {},
   "outputs": [
    {
     "data": {
      "text/html": [
       "<div>\n",
       "<style scoped>\n",
       "    .dataframe tbody tr th:only-of-type {\n",
       "        vertical-align: middle;\n",
       "    }\n",
       "\n",
       "    .dataframe tbody tr th {\n",
       "        vertical-align: top;\n",
       "    }\n",
       "\n",
       "    .dataframe thead th {\n",
       "        text-align: right;\n",
       "    }\n",
       "</style>\n",
       "<table border=\"1\" class=\"dataframe\">\n",
       "  <thead>\n",
       "    <tr style=\"text-align: right;\">\n",
       "      <th></th>\n",
       "      <th></th>\n",
       "      <th>Precision</th>\n",
       "      <th>Recall</th>\n",
       "      <th>Score</th>\n",
       "      <th>Model</th>\n",
       "    </tr>\n",
       "    <tr>\n",
       "      <th>model names</th>\n",
       "      <th>technique</th>\n",
       "      <th></th>\n",
       "      <th></th>\n",
       "      <th></th>\n",
       "      <th></th>\n",
       "    </tr>\n",
       "  </thead>\n",
       "  <tbody>\n",
       "    <tr>\n",
       "      <th>CART</th>\n",
       "      <th>Grid Search</th>\n",
       "      <td>0.228777</td>\n",
       "      <td>0.886968</td>\n",
       "      <td>0.557873</td>\n",
       "      <td>DecisionTreeClassifier(class_weight='balanced'...</td>\n",
       "    </tr>\n",
       "  </tbody>\n",
       "</table>\n",
       "</div>"
      ],
      "text/plain": [
       "                         Precision    Recall     Score  \\\n",
       "model names technique                                    \n",
       "CART        Grid Search   0.228777  0.886968  0.557873   \n",
       "\n",
       "                                                                     Model  \n",
       "model names technique                                                       \n",
       "CART        Grid Search  DecisionTreeClassifier(class_weight='balanced'...  "
      ]
     },
     "execution_count": 47,
     "metadata": {},
     "output_type": "execute_result"
    }
   ],
   "source": [
    "# Get the models with the best precision, recall, and score\n",
    "best_models = all_models[['Score']].idxmax()\n",
    "# Return the values\n",
    "all_models.loc[best_models]"
   ]
  },
  {
   "cell_type": "markdown",
   "id": "aec4863b",
   "metadata": {},
   "source": [
    "After testing with multiple models and altering them from their baseline to grid searching, I found that scores were not the best, this might be because I'm validating with perceison and recall which I initially thought would be better than AUC, but it seems the scores I'm getting are not a good representation. All models used thus far are somewhat weak, but the best of the bunch seems to be the CART model, which is a decision tree classifier. Therefore to create a stronger model, I think its time to move on to some gradient boosting classifiers which should drastically improve score, and validate them with the recommended metric, AUC."
   ]
  },
  {
   "cell_type": "markdown",
   "id": "1720f2f6",
   "metadata": {},
   "source": [
    "Because the following are gradient boosting classifiers, not much data manipulation is required as the model learns from its previous mistakes therfore moving forward will only use, training and testing sets from either the original data (xgboost is fully capable of handling missing values, that is why the original data can still work) or from the modified data only imputing missing values. \n",
    "\n",
    "The reason why I wont be using the modified data that has removed 'wrong' data is because these gradient boosting classifiers are going to need as much data as they can get to be able to regularize much better, or else they will overfit and essentially learn the data too hard, which might yield great AUC scores, but in hindsight these scores would have a large percent error."
   ]
  },
  {
   "cell_type": "code",
   "execution_count": 48,
   "id": "95c99e0d",
   "metadata": {},
   "outputs": [
    {
     "name": "stdout",
     "output_type": "stream",
     "text": [
      "AUC Score : 0.8548715776155944\n"
     ]
    }
   ],
   "source": [
    "#Gradient Boosting Classifier\n",
    "mdl_gbc = GradientBoostingClassifier(n_estimators=900,max_depth=7, min_samples_leaf =120, min_samples_split =1000, max_features='sqrt', subsample=0.8, random_state=10)\n",
    "mdl_gbc.fit(X_train1,y_train1)\n",
    "\n",
    "gbcProb = mdl_gbc.predict_proba(X_test1)\n",
    "\n",
    "fpr_gbc, tpr_gbc, thresholds_gbc = roc_curve(y_test1, gbcProb[:,1])\n",
    "\n",
    "roc_auc = auc(fpr_gbc,tpr_gbc)\n",
    "\n",
    "print ('AUC Score :', roc_auc)"
   ]
  },
  {
   "cell_type": "code",
   "execution_count": 92,
   "id": "3dd9c7fd",
   "metadata": {},
   "outputs": [
    {
     "name": "stdout",
     "output_type": "stream",
     "text": [
      "AUC Score : 0.8799023870554878\n"
     ]
    }
   ],
   "source": [
    "# mdl_xgbc = XGBClassifier(base_score=0.5, booster='gbtree',\n",
    "#               colsample_bylevel = 1, colsample_bynode = 1, colsample_bytree = 0.5,\n",
    "#               grow_policy = 'depthwise', learning_rate = 0.01, max_bin = 256,\n",
    "#               max_depth = 7, max_leaves = 0, min_child_weight = 8, n_estimators = 900,\n",
    "#               num_parallel_tree = 1, random_state=0, gpu_id = 0, reg_lambda = 3, reg_alpha = 0.1)\n",
    "\n",
    "# mdl_xgbc.fit(X_train, y_train)\n",
    "\n",
    "# xgbcProb2 = mdl_xgbc.predict_proba(X_test1)\n",
    "\n",
    "# fpr_xgbc, tpr_xgbc, thresholds_xgbc = roc_curve(y_test1, xgbcProb2[:,1])\n",
    "\n",
    "# roc_auc = auc(fpr_xgbc,tpr_xgbc)\n",
    "\n",
    "# print ('AUC Score :', roc_auc)"
   ]
  },
  {
   "cell_type": "code",
   "execution_count": 49,
   "id": "3fb1158a",
   "metadata": {},
   "outputs": [
    {
     "name": "stdout",
     "output_type": "stream",
     "text": [
      "AUC Score : 0.8805487709411721\n"
     ]
    }
   ],
   "source": [
    "mdl_xgbc = XGBClassifier(base_score=0.5, booster='gbtree',\n",
    "              colsample_bylevel = 1, colsample_bynode = 1, colsample_bytree = 0.5,\n",
    "              grow_policy = 'depthwise', learning_rate = 0.01, max_bin = 256,\n",
    "              max_depth = 7, max_leaves = 0, min_child_weight = 8, n_estimators = 900,\n",
    "              num_parallel_tree = 1, random_state=0, gpu_id = 0, reg_lambda = 2, reg_alpha = 0.2)\n",
    "\n",
    "mdl_xgbc.fit(X_train, y_train)\n",
    "\n",
    "xgbcProb = mdl_xgbc.predict_proba(X_test1)\n",
    "\n",
    "fpr_xgbc, tpr_xgbc, thresholds_xgbc = roc_curve(y_test1, xgbcProb[:,1])\n",
    "\n",
    "roc_auc = auc(fpr_xgbc,tpr_xgbc)\n",
    "\n",
    "print ('AUC Score :', roc_auc)"
   ]
  },
  {
   "cell_type": "code",
   "execution_count": 85,
   "id": "df2b8197",
   "metadata": {},
   "outputs": [
    {
     "name": "stdout",
     "output_type": "stream",
     "text": [
      "AUC Score : 0.8745927859105889\n"
     ]
    }
   ],
   "source": [
    "# mdl3_xgbc = XGBClassifier(base_score=0.5, booster='gbtree',\n",
    "#               colsample_bylevel = 1, colsample_bynode = 0.5, colsample_bytree = 0.5,\n",
    "#               grow_policy = 'depthwise', learning_rate = 0.01, max_bin = 256,\n",
    "#               max_depth = 7, max_leaves = 0, min_child_weight = 8, n_estimators = 900,\n",
    "#               num_parallel_tree = 1, random_state=0, gpu_id = 0, reg_lambda = 2, reg_alpha = 0.2)\n",
    "\n",
    "# mdl3_xgbc.fit(X_train, y_train)\n",
    "\n",
    "# xgbcProb3 = mdl3_xgbc.predict_proba(X_test1)\n",
    "\n",
    "# fpr_xgbc, tpr_xgbc, thresholds_xgbc = roc_curve(y_test1, xgbcProb2[:,1])\n",
    "\n",
    "# roc_auc = auc(fpr_xgbc,tpr_xgbc)\n",
    "\n",
    "# print ('AUC Score :', roc_auc)"
   ]
  },
  {
   "cell_type": "code",
   "execution_count": 50,
   "id": "f1972be1",
   "metadata": {},
   "outputs": [
    {
     "name": "stdout",
     "output_type": "stream",
     "text": [
      "AUC Score : 0.5\n"
     ]
    }
   ],
   "source": [
    "mdl_lgbmc = LGBMClassifier(is_unbalance = True)\n",
    "mdl_lgbmc.fit(X_train1, y_train1)\n",
    "\n",
    "lgbm_clf_proba = mdl_lgbmc.predict_proba(X_test1)\n",
    "\n",
    "fpr_lgbmc, tpr_lgbmc, thresholds_lgbmc = roc_curve(y_test1, lgbm_clf_proba[:,1])\n",
    "\n",
    "roc_auc = auc(fpr_lgbmc,fpr_lgbmc)\n",
    "\n",
    "print ('AUC Score :', roc_auc)"
   ]
  },
  {
   "cell_type": "markdown",
   "id": "4beb670d",
   "metadata": {},
   "source": [
    "### Final csv submission of proababilities"
   ]
  },
  {
   "cell_type": "code",
   "execution_count": 51,
   "id": "77bec8fc",
   "metadata": {},
   "outputs": [],
   "source": [
    "final_probs = mdl_xgbc.predict_proba(df_test.drop('SeriousDlqin2yrs', axis=1))[:,1]\n",
    "ids = np.arange(1,101504)\n",
    "submission = pd.DataFrame( {'Id': ids, 'Probability': final_probs})\n",
    "submission.to_csv(\"final_submission.csv\", index=False)"
   ]
  },
  {
   "cell_type": "markdown",
   "id": "b3a701e3",
   "metadata": {},
   "source": [
    "## Confusion Matrix"
   ]
  },
  {
   "cell_type": "code",
   "execution_count": 52,
   "id": "82814d85",
   "metadata": {},
   "outputs": [
    {
     "data": {
      "image/png": "[encoded data removed]",
      "text/plain": [
       "<Figure size 640x480 with 2 Axes>"
      ]
     },
     "metadata": {},
     "output_type": "display_data"
    }
   ],
   "source": [
    "# Make a prediction\n",
    "y_pred = mdl_xgbc.predict(X_test1)\n",
    "# Make the confusion matrix\n",
    "cfm = confusion_matrix(y_true=y_test1, y_pred=y_pred)\n",
    "# Plot the confusion matrix as a heat map\n",
    "ax = sns.heatmap(cfm, annot=True)\n",
    "# Change the axis lables\n",
    "ax.set(xlabel='Predicted', ylabel='Actual');\n",
    "\n",
    "plt.show()"
   ]
  },
  {
   "cell_type": "code",
   "execution_count": 53,
   "id": "1d823148",
   "metadata": {},
   "outputs": [
    {
     "name": "stdout",
     "output_type": "stream",
     "text": [
      "There are 20832 true negatives and 335 true positives\n"
     ]
    }
   ],
   "source": [
    "print(f'There are {cfm[0][0]} true negatives and {cfm[1][1]} true positives')"
   ]
  },
  {
   "cell_type": "markdown",
   "id": "f099333f",
   "metadata": {},
   "source": [
    "# Q&A "
   ]
  },
  {
   "cell_type": "markdown",
   "id": "77fc8dcd",
   "metadata": {},
   "source": [
    "## Part 1"
   ]
  },
  {
   "cell_type": "markdown",
   "id": "269d4f2a",
   "metadata": {},
   "source": [
    "#### What are the factors that have high correlation with the probability of loan default?\n",
    "\n",
    "From EDA of the original data set it is clear that the feature that has the highest correlation with loan default is NumberOfTimes90DaysLate, NumberOfTime30-59DaysPastDueNotWorse, and NumberOfTime60-89DaysPastDueNotWorse. The one with the highest correlation initially seems to be NumberOfTimes90DaysLate. Even after imputing and cleaning up the dataframes these correlations still hold and can be seen on the correlation heatmaps.\n",
    "\n",
    "#### Are there interaction effects occurring among the variables?\n",
    "\n",
    "If we look at the correlation heatmap of the unmodified orginial dataset, we can see that there is a strong interaction effect between NumberOfTimes90DaysLate, NumberOfTime30-59DaysPastDueNotWorse, and NumberOfTime60-89DaysPastDueNotWorse. This effect seems somewhat intuitve as they all mean the same things, and there are number of instances where they even have matching values, which by doing simple calculations we can find that thos instances are actually incorrect but none the less it is why they are highly correlated togethor. After modifying the data and cleaning it up, there is another interaction effect that is noticed, which is there is a high correaltion between the NumberRealEstateLoansOrLines and NumberOfOpenCreditLinesAndLoans, which again seems intuitive. \n",
    "\n",
    "#### Any other preliminary analysis of the given dataset?\n",
    "\n",
    "When focusing in on NumberOfTimes90DaysLate, NumberOfTime30-59DaysPastDueNotWorse, and NumberOfTime60-89DaysPastDueNotWorse we can see that there are duplicating instances where they are all 98 days for the same borrower/individual, which does not make sense at all, this was taken into consideration and after imputing missing values, these duplicate instances were removed. Also when looking at the distributions for most features in the dataset, most features are skewed. Also it was found that the proportion of borrowers who default on their loans is 0.06684"
   ]
  },
  {
   "cell_type": "markdown",
   "id": "5da7e473",
   "metadata": {},
   "source": [
    "## Part 2"
   ]
  },
  {
   "cell_type": "markdown",
   "id": "caed3a0c",
   "metadata": {},
   "source": [
    "#### Tell us how you validate your model and why you chose such evaluation technique(s).\n",
    "\n",
    "When first attempting to validate my models I decided to go with scoring using precision and recall, this is because precision and recall are better suited for imbalanced target data which is the case in this challenge and they can measure rare events much better than ROC metrics. Seeing the initial test scores I was getting I decided to switch back to AUC which was the recommended evaluation metric, because in this application it is more important to make sure that there are very few false positives and few false negatives, than try to measure rare events, since in real life this is a bank and the bank would want a model that is constantly reliable more reliable rather than always trying to measure very rare events.\n",
    "\n",
    "#### What is AUC? Why do you think AUC was used as the evaluation metric for this challenge? What other metrics do you think would also be suitable for this competition?\n",
    "\n",
    "AUC simply stands for area under the curve, specifically an ROC curve, the ROC curve is a plot of true positive rate (TPR) versus false positive rate (FPR) for different threshold values. Which means that the AUC for ROC curve would represent the probability that the model will rank a randomly chosen positive instance over a negatiuve one. It is used in a plot in applications where it is important to make sure that there are very few false positives (i.e., false alarms) or very few false negatives (i.e., missed detections). I believe that a big reason why AUC was used as the evaluation metric for this challenge was because the best model used for this challenge is technically a logistic regression model at its core. A logistic regression model outputs the probability of whether the the target is 1 or 0. Even for my final xgboost classifier model, I made sure to input the best values I could find for lamda and alpha which represent L2 and L1 regularization weights respectivley. I believe another good metric that can be used for this challenge is precision and recall, this is because precision and recall are better suited for imbalanced target data. Precision and recall can measure rare events much better than ROC metrics because they evaluate true positive, false positive, and false negative events, whereas ROC only looks at false positive and true positive. Although I did not achieve great scores with my orignal models, but I believe if I applied them to my improved models I would achieve outstanding scores.\n",
    "\n",
    "#### Short explanation of what you tried. What worked and what did not work (ie. you might have tried different features/models before the final one).\n",
    "\n",
    "I've tried a number of different models before landing on my last one, I tried logistic regression with both an L1 and L2 penalty, as well as a classification and regression tree (CART model), and finally a random forest model. Then I built on top of these models by first scoring them on their baseline results, then implemented a number of engineering techinques such as scaling, feature engineering, feature selection, performed a grid search with cross validation, stacking models, and even bagging. All these models were yielding poor scores, so I decided it was time for an upgrade. I then moved on to testing with different gradient boosting models from various frameworks. I stuck with gradient boosting classifiers and after testing with scikit learn gradient boosting classifier as well as xgboost classifier and lgbm classifier, I found that the xgboost gradient classifier yielded the best auc scores. I then continued to test by tuning with different relevant hyper parameters with trial and error until I managed to achieve the best auc score. For feature engineering I tried to compute the product of debt ratio and monthly income which represents the borrowers monthly debt payments, but this did not yield better scores. I also tried imputing the data by imputing monthly income with its median and number of dependants with its mode, and even mkaing sure there was no false entries for number of times 90 days late by removing any indexes that had a value greater than 17 and even makiong sure ages are above 0. Even with all these efforts and datya cleaning it seems that the xgboost performed its best with the raw unmodified data, which is probably because with more data the model was able to regularize much better and reduced overfitting.\n",
    "\n",
    "#### What insight(s) do you have from your model(s)?\n",
    "\n",
    "I created a confusion matrix which showed me the predicted vs actual number of times a person would default and I found that the model had 20832 true negatives and 335 true positives, this was using the modified testing set of imputed values, therefore is not an accurate representation of my best model. I have also found out that the gpu of ones system plays a huge role in how well the model performs, different gpu's even with the same code are able to output better or worse predicitons, I have found this out by once testing my code on jupyter notebooks and once on google collab, and even ran the xgboost with the google collab gpu and my own gpu, and I found it yielded different results although the code remained the same.\n",
    "\n",
    "#### Can you get into the top 100 of the private leaderboard or even higher?\n",
    "\n",
    "I'm glad to say that I not only was able to get into the top 100 on the private leaderboard but I managed to squeeze my way into the top 50, and achieving a rank of 43 rd. Check it out on myrank.jpg :)"
   ]
  }
 ],
 "metadata": {
  "kernelspec": {
   "display_name": "Python 3 (ipykernel)",
   "language": "python",
   "name": "python3"
  },
  "language_info": {
   "codemirror_mode": {
    "name": "ipython",
    "version": 3
   },
   "file_extension": ".py",
   "mimetype": "text/x-python",
   "name": "python",
   "nbconvert_exporter": "python",
   "pygments_lexer": "ipython3",
   "version": "3.9.13"
  }
 },
 "nbformat": 4,
 "nbformat_minor": 5
}
